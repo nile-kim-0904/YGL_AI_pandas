{
 "cells": [
  {
   "cell_type": "code",
   "execution_count": 170,
   "id": "9d5e8344",
   "metadata": {},
   "outputs": [],
   "source": [
    "# 누락데이터 처리\n",
    "import pandas as pd\n",
    "import seaborn as sns\n",
    "import matplotlib.pyplot as plt"
   ]
  },
  {
   "cell_type": "code",
   "execution_count": 173,
   "id": "31a243a2",
   "metadata": {},
   "outputs": [],
   "source": [
    "# %load font.py\n",
    "#!/usr/bin/env python\n",
    "\n",
    "# In[ ]:\n",
    "\n",
    "\n",
    "import platform\n",
    "if platform.system() == 'Darwin': #맥\n",
    "        plt.rc('font', family='AppleGothic') \n",
    "elif platform.system() == 'Windows': #윈도우\n",
    "        plt.rc('font', family='Malgun Gothic') \n",
    "elif platform.system() == 'Linux': #리눅스 (구글 콜랩)\n",
    "        plt.rc('font', family='Malgun Gothic') \n",
    "\n",
    "plt.rcParams['axes.unicode_minus'] = False #한글 폰트 사용시 마이너스 폰트 깨짐 해결\n",
    "\n"
   ]
  },
  {
   "cell_type": "code",
   "execution_count": 3,
   "id": "18768669",
   "metadata": {},
   "outputs": [
    {
     "name": "stdout",
     "output_type": "stream",
     "text": [
      "<class 'pandas.core.frame.DataFrame'>\n",
      "RangeIndex: 891 entries, 0 to 890\n",
      "Data columns (total 15 columns):\n",
      " #   Column       Non-Null Count  Dtype   \n",
      "---  ------       --------------  -----   \n",
      " 0   survived     891 non-null    int64   \n",
      " 1   pclass       891 non-null    int64   \n",
      " 2   sex          891 non-null    object  \n",
      " 3   age          714 non-null    float64 \n",
      " 4   sibsp        891 non-null    int64   \n",
      " 5   parch        891 non-null    int64   \n",
      " 6   fare         891 non-null    float64 \n",
      " 7   embarked     889 non-null    object  \n",
      " 8   class        891 non-null    category\n",
      " 9   who          891 non-null    object  \n",
      " 10  adult_male   891 non-null    bool    \n",
      " 11  deck         203 non-null    category\n",
      " 12  embark_town  889 non-null    object  \n",
      " 13  alive        891 non-null    object  \n",
      " 14  alone        891 non-null    bool    \n",
      "dtypes: bool(2), category(2), float64(2), int64(4), object(5)\n",
      "memory usage: 80.7+ KB\n"
     ]
    }
   ],
   "source": [
    "df = sns.load_dataset('titanic')\n",
    "df.info()"
   ]
  },
  {
   "cell_type": "code",
   "execution_count": 16,
   "id": "9c06c2ff",
   "metadata": {},
   "outputs": [
    {
     "name": "stdout",
     "output_type": "stream",
     "text": [
      "C    59\n",
      "B    47\n",
      "D    33\n",
      "E    32\n",
      "A    15\n",
      "F    13\n",
      "G     4\n",
      "Name: deck, dtype: int64\n",
      "\n",
      "NaN    688\n",
      "C       59\n",
      "B       47\n",
      "D       33\n",
      "E       32\n",
      "A       15\n",
      "F       13\n",
      "G        4\n",
      "Name: deck, dtype: int64\n",
      "\n",
      "0     True\n",
      "1    False\n",
      "2     True\n",
      "3    False\n",
      "4     True\n",
      "Name: deck, dtype: bool\n",
      "688\n"
     ]
    },
    {
     "data": {
      "text/plain": [
       "survived         0\n",
       "pclass           0\n",
       "sex              0\n",
       "age            177\n",
       "sibsp            0\n",
       "parch            0\n",
       "fare             0\n",
       "embarked         2\n",
       "class            0\n",
       "who              0\n",
       "adult_male       0\n",
       "deck           688\n",
       "embark_town      2\n",
       "alive            0\n",
       "alone            0\n",
       "dtype: int64"
      ]
     },
     "execution_count": 16,
     "metadata": {},
     "output_type": "execute_result"
    }
   ],
   "source": [
    "# deck 컬럼의 값들의 갯수를 세어 봄 df[''].value_counts(): 유니크한 값들의 갯수\n",
    "print(df['deck'].value_counts())\n",
    "print()\n",
    "deck_cnt = df['deck'].value_counts(dropna=False) # NaN 데이터 포함 갯수 세기\n",
    "print(deck_cnt)\n",
    "print()\n",
    "\n",
    "# isnull() 메서드로 누락된 데이터 찾기, null이면 True 반환\n",
    "print(df['deck'].head().isnull())\n",
    "\n",
    "# isnull()과 sum() 함수를 이용하여 누락된 데이터 갯수 찾기\n",
    "print(df['deck'].isnull().sum())\n",
    "df.isnull().sum(axis=0) # age, deck, embarked, embark_town -> null data 포함"
   ]
  },
  {
   "cell_type": "code",
   "execution_count": 24,
   "id": "729ca44b",
   "metadata": {},
   "outputs": [
    {
     "name": "stdout",
     "output_type": "stream",
     "text": [
      "survived : 0\n",
      "pclass : 0\n",
      "sex : 0\n",
      "age : 177\n",
      "sibsp : 0\n",
      "parch : 0\n",
      "fare : 0\n",
      "embarked : 2\n",
      "class : 0\n",
      "who : 0\n",
      "adult_male : 0\n",
      "deck : 688\n",
      "embark_town : 2\n",
      "alive : 0\n",
      "alone : 0\n"
     ]
    }
   ],
   "source": [
    "# 반복문으로 NaN 데이터 갯수 확인\n",
    "nan_data = df.isnull()\n",
    "for col in nan_data.columns:\n",
    "    nan_cnt = nan_data[col].value_counts() # 각 열의 NaN 갯수 파악\n",
    "    \n",
    "    try:\n",
    "        print(col,':',nan_cnt[True]) # NaN 값이 존재하면 갯수를 출력\n",
    "    except:\n",
    "        print(col,':',0) # NaN 값이 없으면 0을 출력\n",
    "        \n",
    "# NaN 데이터 확인 -> 어떻게 처리할건지?\n",
    "# NaN 데이터가 있는 컬럼을 삭제?, NaN 데이터가 있는 행을 삭제?"
   ]
  },
  {
   "cell_type": "code",
   "execution_count": 27,
   "id": "1792f5f9",
   "metadata": {},
   "outputs": [
    {
     "name": "stdout",
     "output_type": "stream",
     "text": [
      "<class 'pandas.core.frame.DataFrame'>\n",
      "RangeIndex: 891 entries, 0 to 890\n",
      "Data columns (total 14 columns):\n",
      " #   Column       Non-Null Count  Dtype   \n",
      "---  ------       --------------  -----   \n",
      " 0   survived     891 non-null    int64   \n",
      " 1   pclass       891 non-null    int64   \n",
      " 2   sex          891 non-null    object  \n",
      " 3   age          714 non-null    float64 \n",
      " 4   sibsp        891 non-null    int64   \n",
      " 5   parch        891 non-null    int64   \n",
      " 6   fare         891 non-null    float64 \n",
      " 7   embarked     889 non-null    object  \n",
      " 8   class        891 non-null    category\n",
      " 9   who          891 non-null    object  \n",
      " 10  adult_male   891 non-null    bool    \n",
      " 11  embark_town  889 non-null    object  \n",
      " 12  alive        891 non-null    object  \n",
      " 13  alone        891 non-null    bool    \n",
      "dtypes: bool(2), category(1), float64(2), int64(4), object(5)\n",
      "memory usage: 79.4+ KB\n"
     ]
    }
   ],
   "source": [
    "# df.dropna(): axis=1 열을 삭제, axis=0 행을 삭제\n",
    "# dropna(): NaN이 존재하는 컬럼을 삭제, 갯수가 500 이상인 컬럼만 삭제\n",
    "df_thresh = df.dropna(axis=1,thresh=500) # axis='columns'\n",
    "df_thresh.info()"
   ]
  },
  {
   "cell_type": "code",
   "execution_count": 46,
   "id": "15b4e034",
   "metadata": {},
   "outputs": [
    {
     "name": "stdout",
     "output_type": "stream",
     "text": [
      "<class 'pandas.core.frame.DataFrame'>\n",
      "Int64Index: 714 entries, 0 to 890\n",
      "Data columns (total 15 columns):\n",
      " #   Column       Non-Null Count  Dtype   \n",
      "---  ------       --------------  -----   \n",
      " 0   survived     714 non-null    int64   \n",
      " 1   pclass       714 non-null    int64   \n",
      " 2   sex          714 non-null    object  \n",
      " 3   age          714 non-null    float64 \n",
      " 4   sibsp        714 non-null    int64   \n",
      " 5   parch        714 non-null    int64   \n",
      " 6   fare         714 non-null    float64 \n",
      " 7   embarked     712 non-null    object  \n",
      " 8   class        714 non-null    category\n",
      " 9   who          714 non-null    object  \n",
      " 10  adult_male   714 non-null    bool    \n",
      " 11  deck         184 non-null    category\n",
      " 12  embark_town  712 non-null    object  \n",
      " 13  alive        714 non-null    object  \n",
      " 14  alone        714 non-null    bool    \n",
      "dtypes: bool(2), category(2), float64(2), int64(4), object(5)\n",
      "memory usage: 70.2+ KB\n",
      "\n",
      "[survived       False\n",
      "pclass         False\n",
      "sex            False\n",
      "age             True\n",
      "sibsp          False\n",
      "parch          False\n",
      "fare           False\n",
      "embarked        True\n",
      "class          False\n",
      "who            False\n",
      "adult_male     False\n",
      "deck            True\n",
      "embark_town     True\n",
      "alive          False\n",
      "alone          False\n",
      "dtype: bool]\n",
      "\n",
      "['age', 'embarked', 'deck', 'embark_town']\n",
      "\n",
      "     survived  pclass    sex    age  sibsp  parch   fare  embarked  class  \\\n",
      "1       False   False  False  False  False  False  False     False  False   \n",
      "3       False   False  False  False  False  False  False     False  False   \n",
      "6       False   False  False  False  False  False  False     False  False   \n",
      "10      False   False  False  False  False  False  False     False  False   \n",
      "11      False   False  False  False  False  False  False     False  False   \n",
      "..        ...     ...    ...    ...    ...    ...    ...       ...    ...   \n",
      "871     False   False  False  False  False  False  False     False  False   \n",
      "872     False   False  False  False  False  False  False     False  False   \n",
      "879     False   False  False  False  False  False  False     False  False   \n",
      "887     False   False  False  False  False  False  False     False  False   \n",
      "889     False   False  False  False  False  False  False     False  False   \n",
      "\n",
      "       who  adult_male   deck  embark_town  alive  alone  \n",
      "1    False       False  False        False  False  False  \n",
      "3    False       False  False        False  False  False  \n",
      "6    False       False  False        False  False  False  \n",
      "10   False       False  False        False  False  False  \n",
      "11   False       False  False        False  False  False  \n",
      "..     ...         ...    ...          ...    ...    ...  \n",
      "871  False       False  False        False  False  False  \n",
      "872  False       False  False        False  False  False  \n",
      "879  False       False  False        False  False  False  \n",
      "887  False       False  False        False  False  False  \n",
      "889  False       False  False        False  False  False  \n",
      "\n",
      "[182 rows x 15 columns]\n"
     ]
    },
    {
     "name": "stderr",
     "output_type": "stream",
     "text": [
      "C:\\ProgramData\\Anaconda3\\lib\\site-packages\\pandas\\core\\indexes\\base.py:4616: FutureWarning: Using a non-tuple sequence for multidimensional indexing is deprecated; use `arr[tuple(seq)]` instead of `arr[seq]`. In the future this will be interpreted as an array index, `arr[np.array(seq)]`, which will result either in an error or a different result.\n",
      "  result = getitem(key)\n"
     ]
    }
   ],
   "source": [
    "# age에 NaN이 존재하는 행을 삭제\n",
    "df_age = df.dropna(subset=['age'],how='any',axis='index')\n",
    "df_age.info()\n",
    "print()\n",
    "\n",
    "# 컬럼 리스트: NaN이 존재하는 컬럼 리스트\n",
    "nan_col = [df.isnull().sum()>0]\n",
    "print(nan_col)\n",
    "print()\n",
    "\n",
    "nan_col_names = list(df.columns[nan_col])\n",
    "print(nan_col_names)\n",
    "print()\n",
    "\n",
    "# NaN이 존재하는 모든 행을 삭제\n",
    "df_nan = df.dropna(subset=nan_col_names, how='any',axis='index')\n",
    "print(df_nan.isnull())"
   ]
  },
  {
   "cell_type": "code",
   "execution_count": 59,
   "id": "94af0b42",
   "metadata": {},
   "outputs": [
    {
     "name": "stdout",
     "output_type": "stream",
     "text": [
      "0\n",
      "\n",
      "0    22.000000\n",
      "1    38.000000\n",
      "2    26.000000\n",
      "3    35.000000\n",
      "4    35.000000\n",
      "5    29.699118\n",
      "6    54.000000\n",
      "7     2.000000\n",
      "8    27.000000\n",
      "9    14.000000\n",
      "Name: age, dtype: float64 \n",
      "\n",
      " 0    22.000000\n",
      "1    38.000000\n",
      "2    26.000000\n",
      "3    35.000000\n",
      "4    35.000000\n",
      "5    29.699118\n",
      "6    54.000000\n",
      "7     2.000000\n",
      "8    27.000000\n",
      "9    14.000000\n",
      "Name: age, dtype: float64\n"
     ]
    }
   ],
   "source": [
    "# 누락 데이터 치환: df.fillna(값 또는 method=ffill / bfill,inplace=True)\n",
    "print(df['age'].isnull().sum()) # NaN 존재 함\n",
    "print()\n",
    "\n",
    "# NaN이 입력된 age를 평균 나이로 치환\n",
    "#print(df)\n",
    "df_age = df.copy()\n",
    "df_age['age'].fillna(df['age'].mean(axis=0),inplace=True)\n",
    "df_age.isnull().sum()\n",
    "print(df['age'].head(10),'\\n\\n',df_age['age'].head(10))\n"
   ]
  },
  {
   "cell_type": "code",
   "execution_count": 70,
   "id": "f3d256c3",
   "metadata": {},
   "outputs": [
    {
     "data": {
      "text/plain": [
       "825     Queenstown\n",
       "826    Southampton\n",
       "827      Cherbourg\n",
       "828     Queenstown\n",
       "829    Southampton\n",
       "830      Cherbourg\n",
       "831    Southampton\n",
       "Name: embark_town, dtype: object"
      ]
     },
     "execution_count": 70,
     "metadata": {},
     "output_type": "execute_result"
    }
   ],
   "source": [
    "# 누락 데이터 치환\n",
    "# embark_town 825 ~ 831 행 출력\n",
    "df.embark_town[825:832]\n",
    "df['embark_town'].value_counts().idxmax()\n",
    "df_em = df.copy()\n",
    "df_em['embark_town'].fillna(df_em['embark_town'].value_counts().idxmax(),inplace=True)\n",
    "df_em.embark_town[825:832]"
   ]
  },
  {
   "cell_type": "code",
   "execution_count": 74,
   "id": "d63f4c0d",
   "metadata": {},
   "outputs": [
    {
     "name": "stdout",
     "output_type": "stream",
     "text": [
      "825     Queenstown\n",
      "826    Southampton\n",
      "827      Cherbourg\n",
      "828     Queenstown\n",
      "829     Queenstown\n",
      "830      Cherbourg\n",
      "831    Southampton\n",
      "Name: embark_town, dtype: object \n",
      "\n",
      "\n",
      " 825     Queenstown\n",
      "826    Southampton\n",
      "827      Cherbourg\n",
      "828     Queenstown\n",
      "829            NaN\n",
      "830      Cherbourg\n",
      "831    Southampton\n",
      "Name: embark_town, dtype: object\n"
     ]
    }
   ],
   "source": [
    "# 누락 데이터 치환: 이전 데이터로 치환\n",
    "df_me = df.copy()\n",
    "df_me.embark_town.fillna(method='ffill',inplace=True)\n",
    "print(df_me.embark_town[825:832],'\\n\\n\\n', df.embark_town[825:832])"
   ]
  },
  {
   "cell_type": "code",
   "execution_count": 87,
   "id": "65228b6e",
   "metadata": {},
   "outputs": [
    {
     "name": "stdout",
     "output_type": "stream",
     "text": [
      "  c1  c2  c3\n",
      "0  a   1   1\n",
      "1  a   1   1\n",
      "2  b   1   2\n",
      "3  a   2   2\n",
      "4  b   2   2\n",
      "\n",
      "0    False\n",
      "1     True\n",
      "2    False\n",
      "3     True\n",
      "4     True\n",
      "Name: c1, dtype: bool\n",
      "\n",
      "  c1  c2  c3\n",
      "0  a   1   1\n",
      "2  b   1   2\n",
      "3  a   2   2\n",
      "4  b   2   2\n",
      "\n",
      "  c1  c2  c3\n",
      "0  a   1   1\n",
      "2  b   1   2\n",
      "3  a   2   2\n",
      "4  b   2   2\n",
      "\n"
     ]
    }
   ],
   "source": [
    "# 중복 데이터 처리: df.duplicated() -> 중복 여부 확인\n",
    "df1 = pd.DataFrame({'c1':['a','a','b','a','b'],'c2':[1,1,1,2,2],'c3':[1,1,2,2,2]})\n",
    "print(df1)\n",
    "print()\n",
    "\n",
    "df_dup = df1.duplicated()\n",
    "df_dup = df1['c1'].duplicated()\n",
    "print(df_dup)\n",
    "print()\n",
    "\n",
    "# 중복된 데이터를 제거\n",
    "df2 = df1.drop_duplicates()\n",
    "print(df2)\n",
    "print()\n",
    "\n",
    "# 중복된 컬럼을 제거\n",
    "df3 = df1.drop_duplicates(subset=['c1','c2'])\n",
    "print(df3)\n",
    "print()"
   ]
  },
  {
   "cell_type": "code",
   "execution_count": 114,
   "id": "015d9498",
   "metadata": {},
   "outputs": [
    {
     "name": "stdout",
     "output_type": "stream",
     "text": [
      "     survived  pclass     sex   age  sibsp  parch     fare embarked   class  \\\n",
      "0           0       3    male  22.0      1      0   7.2500        S   Third   \n",
      "1           1       1  female  38.0      1      0  71.2833        C   First   \n",
      "2           1       3  female  26.0      0      0   7.9250        S   Third   \n",
      "3           1       1  female  35.0      1      0  53.1000        S   First   \n",
      "4           0       3    male  35.0      0      0   8.0500        S   Third   \n",
      "..        ...     ...     ...   ...    ...    ...      ...      ...     ...   \n",
      "886         0       2    male  27.0      0      0  13.0000        S  Second   \n",
      "887         1       1  female  19.0      0      0  30.0000        S   First   \n",
      "888         0       3  female   NaN      1      2  23.4500        S   Third   \n",
      "889         1       1    male  26.0      0      0  30.0000        C   First   \n",
      "890         0       3    male  32.0      0      0   7.7500        Q   Third   \n",
      "\n",
      "       who  adult_male deck  embark_town alive  alone  \n",
      "0      man        True  NaN  Southampton    no  False  \n",
      "1    woman       False    C    Cherbourg   yes  False  \n",
      "2    woman       False  NaN  Southampton   yes   True  \n",
      "3    woman       False    C  Southampton   yes  False  \n",
      "4      man        True  NaN  Southampton    no   True  \n",
      "..     ...         ...  ...          ...   ...    ...  \n",
      "886    man        True  NaN  Southampton    no   True  \n",
      "887  woman       False    B  Southampton   yes   True  \n",
      "888  woman       False  NaN  Southampton    no  False  \n",
      "889    man        True    C    Cherbourg   yes   True  \n",
      "890    man        True  NaN   Queenstown    no   True  \n",
      "\n",
      "[891 rows x 15 columns]\n",
      "\n",
      "      age     fare   class alive\n",
      "0    22.0   7.2500   Third    no\n",
      "1    38.0  71.2833   First   yes\n",
      "2    26.0   7.9250   Third   yes\n",
      "3    35.0  53.1000   First   yes\n",
      "4    35.0   8.0500   Third    no\n",
      "..    ...      ...     ...   ...\n",
      "886  27.0  13.0000  Second    no\n",
      "887  19.0  30.0000   First   yes\n",
      "888   NaN  23.4500   Third    no\n",
      "889  26.0  30.0000   First   yes\n",
      "890  32.0   7.7500   Third    no\n",
      "\n",
      "[891 rows x 4 columns]\n",
      "\n",
      "891\n",
      "\n",
      "746\n",
      "\n",
      "89\n",
      "\n"
     ]
    }
   ],
   "source": [
    "# titanic에서 age, fare, class, alive 컬럼만 가져와서 df_titanic으로 지정\n",
    "# NaN이 있는 컬럼의 값을 숫자는 평균으로 문자는 이전 값으로 대체\n",
    "# 중복된 행과 컬럼은 삭제\n",
    "\n",
    "titanic = sns.load_dataset('titanic')\n",
    "print(titanic)\n",
    "print()\n",
    "\n",
    "df_titanic = titanic.loc[:,['age','fare','class','alive']]\n",
    "print(df_titanic)\n",
    "print()\n",
    "\n",
    "for col in df_titanic.columns:\n",
    "    if df_titanic[col].dtype == 'float64':\n",
    "        df_titanic[col].fillna(df_titanic[col].mean(),inplace=True)\n",
    "    else:\n",
    "        df_titanic[col].fillna(method='ffill',inplace=True)\n",
    "\n",
    "df_titanic.head(6)\n",
    "print(len(df_titanic))\n",
    "print()\n",
    "\n",
    "df_titanic.drop_duplicates(inplace=True)\n",
    "print(len(df_titanic))\n",
    "print()\n",
    "\n",
    "df_titanic.drop_duplicates(subset=['age'],inplace=True)\n",
    "print(len(df_titanic))\n",
    "print()\n",
    "    "
   ]
  },
  {
   "cell_type": "code",
   "execution_count": 127,
   "id": "2340d923",
   "metadata": {},
   "outputs": [
    {
     "name": "stdout",
     "output_type": "stream",
     "text": [
      "        0  1      2      3       4     5   6  7                          8\n",
      "0    18.0  8  307.0  130.0  3504.0  12.0  70  1  chevrolet chevelle malibu\n",
      "1    15.0  8  350.0  165.0  3693.0  11.5  70  1          buick skylark 320\n",
      "2    18.0  8  318.0  150.0  3436.0  11.0  70  1         plymouth satellite\n",
      "3    16.0  8  304.0  150.0  3433.0  12.0  70  1              amc rebel sst\n",
      "4    17.0  8  302.0  140.0  3449.0  10.5  70  1                ford torino\n",
      "..    ... ..    ...    ...     ...   ...  .. ..                        ...\n",
      "393  27.0  4  140.0  86.00  2790.0  15.6  82  1            ford mustang gl\n",
      "394  44.0  4   97.0  52.00  2130.0  24.6  82  2                  vw pickup\n",
      "395  32.0  4  135.0  84.00  2295.0  11.6  82  1              dodge rampage\n",
      "396  28.0  4  120.0  79.00  2625.0  18.6  82  1                ford ranger\n",
      "397  31.0  4  119.0  82.00  2720.0  19.4  82  1                 chevy s-10\n",
      "\n",
      "[398 rows x 9 columns]\n",
      "\n",
      "    mpg  cylinders  displacement horsepower  weight  acceleration  model year  \\\n",
      "0  18.0          8         307.0      130.0  3504.0          12.0          70   \n",
      "1  15.0          8         350.0      165.0  3693.0          11.5          70   \n",
      "2  18.0          8         318.0      150.0  3436.0          11.0          70   \n",
      "3  16.0          8         304.0      150.0  3433.0          12.0          70   \n",
      "4  17.0          8         302.0      140.0  3449.0          10.5          70   \n",
      "\n",
      "   origin                       name  \n",
      "0       1  chevrolet chevelle malibu  \n",
      "1       1          buick skylark 320  \n",
      "2       1         plymouth satellite  \n",
      "3       1              amc rebel sst  \n",
      "4       1                ford torino  \n",
      "\n"
     ]
    }
   ],
   "source": [
    "# dataset/auto_mpg.csv\n",
    "# 데이터 표준화\n",
    "df = pd.read_csv('dataset/auto-mpg.csv',header=None)\n",
    "print(df)\n",
    "print()\n",
    "\n",
    "# 컬럼 이름 지정\n",
    "df.columns = ['mpg','cylinders','displacement','horsepower','weight',\n",
    "              'acceleration','model year','origin','name']\n",
    "\n",
    "#df.info()\n",
    "print(df.head())\n",
    "print()"
   ]
  },
  {
   "cell_type": "code",
   "execution_count": 132,
   "id": "2d495840",
   "metadata": {},
   "outputs": [
    {
     "data": {
      "text/html": [
       "<div>\n",
       "<style scoped>\n",
       "    .dataframe tbody tr th:only-of-type {\n",
       "        vertical-align: middle;\n",
       "    }\n",
       "\n",
       "    .dataframe tbody tr th {\n",
       "        vertical-align: top;\n",
       "    }\n",
       "\n",
       "    .dataframe thead th {\n",
       "        text-align: right;\n",
       "    }\n",
       "</style>\n",
       "<table border=\"1\" class=\"dataframe\">\n",
       "  <thead>\n",
       "    <tr style=\"text-align: right;\">\n",
       "      <th></th>\n",
       "      <th>mpg</th>\n",
       "      <th>cylinders</th>\n",
       "      <th>displacement</th>\n",
       "      <th>horsepower</th>\n",
       "      <th>weight</th>\n",
       "      <th>acceleration</th>\n",
       "      <th>model year</th>\n",
       "      <th>origin</th>\n",
       "      <th>name</th>\n",
       "      <th>kpl</th>\n",
       "    </tr>\n",
       "  </thead>\n",
       "  <tbody>\n",
       "    <tr>\n",
       "      <th>0</th>\n",
       "      <td>7.652571</td>\n",
       "      <td>8</td>\n",
       "      <td>307.0</td>\n",
       "      <td>130.0</td>\n",
       "      <td>3504.0</td>\n",
       "      <td>12.0</td>\n",
       "      <td>70</td>\n",
       "      <td>1</td>\n",
       "      <td>chevrolet chevelle malibu</td>\n",
       "      <td>3.25</td>\n",
       "    </tr>\n",
       "    <tr>\n",
       "      <th>1</th>\n",
       "      <td>6.377143</td>\n",
       "      <td>8</td>\n",
       "      <td>350.0</td>\n",
       "      <td>165.0</td>\n",
       "      <td>3693.0</td>\n",
       "      <td>11.5</td>\n",
       "      <td>70</td>\n",
       "      <td>1</td>\n",
       "      <td>buick skylark 320</td>\n",
       "      <td>2.71</td>\n",
       "    </tr>\n",
       "  </tbody>\n",
       "</table>\n",
       "</div>"
      ],
      "text/plain": [
       "        mpg  cylinders  displacement horsepower  weight  acceleration  \\\n",
       "0  7.652571          8         307.0      130.0  3504.0          12.0   \n",
       "1  6.377143          8         350.0      165.0  3693.0          11.5   \n",
       "\n",
       "   model year  origin                       name   kpl  \n",
       "0          70       1  chevrolet chevelle malibu  3.25  \n",
       "1          70       1          buick skylark 320  2.71  "
      ]
     },
     "execution_count": 132,
     "metadata": {},
     "output_type": "execute_result"
    }
   ],
   "source": [
    "# 단위 환산: mpg -> gallon => kg로 변환\n",
    "mpg_to_kg = 1.60934 / 3.78541\n",
    "df['kpl'] = (df['mpg']*mpg_to_kg).round(2)\n",
    "df.head(2)"
   ]
  },
  {
   "cell_type": "code",
   "execution_count": 148,
   "id": "0dc60c9e",
   "metadata": {},
   "outputs": [
    {
     "name": "stdout",
     "output_type": "stream",
     "text": [
      "<class 'pandas.core.frame.DataFrame'>\n",
      "RangeIndex: 398 entries, 0 to 397\n",
      "Data columns (total 10 columns):\n",
      " #   Column        Non-Null Count  Dtype   \n",
      "---  ------        --------------  -----   \n",
      " 0   mpg           398 non-null    float64 \n",
      " 1   cylinders     398 non-null    int64   \n",
      " 2   displacement  398 non-null    float64 \n",
      " 3   horsepower    392 non-null    float64 \n",
      " 4   weight        398 non-null    float64 \n",
      " 5   acceleration  398 non-null    float64 \n",
      " 6   model year    398 non-null    int64   \n",
      " 7   origin        398 non-null    category\n",
      " 8   name          398 non-null    object  \n",
      " 9   kpl           398 non-null    float64 \n",
      "dtypes: category(1), float64(6), int64(2), object(1)\n",
      "memory usage: 28.6+ KB\n"
     ]
    }
   ],
   "source": [
    "import numpy as np\n",
    "\n",
    "# 자료형 변환\n",
    "df['horsepower'].unique() # '?' 발견 -> NaN으로 변경 후 NaN 처리\n",
    "df['horsepower'].replace('?',np.nan,inplace=True)\n",
    "\n",
    "# 데이터 타입을 float으로 변경\n",
    "df['horsepower'] = df['horsepower'].astype('float')\n",
    "#df.info()\n",
    "\n",
    "#origin\n",
    "df.origin.unique() # 숫자를 카테고리로 변경: 나라 이름으로 변경\n",
    "df.origin.replace({1:'USA',2:'EU',3:'JPN'},inplace=True)\n",
    "df.origin.unique()\n",
    "\n",
    "df.origin = df.origin.astype('category')\n",
    "df.info()"
   ]
  },
  {
   "cell_type": "code",
   "execution_count": 151,
   "id": "265b852b",
   "metadata": {},
   "outputs": [
    {
     "name": "stdout",
     "output_type": "stream",
     "text": [
      "<class 'pandas.core.frame.DataFrame'>\n",
      "RangeIndex: 398 entries, 0 to 397\n",
      "Data columns (total 10 columns):\n",
      " #   Column        Non-Null Count  Dtype   \n",
      "---  ------        --------------  -----   \n",
      " 0   mpg           398 non-null    float64 \n",
      " 1   cylinders     398 non-null    int64   \n",
      " 2   displacement  398 non-null    float64 \n",
      " 3   horsepower    392 non-null    float64 \n",
      " 4   weight        398 non-null    float64 \n",
      " 5   acceleration  398 non-null    float64 \n",
      " 6   model year    398 non-null    category\n",
      " 7   origin        398 non-null    category\n",
      " 8   name          398 non-null    object  \n",
      " 9   kpl           398 non-null    float64 \n",
      "dtypes: category(2), float64(6), int64(1), object(1)\n",
      "memory usage: 26.6+ KB\n"
     ]
    },
    {
     "data": {
      "text/plain": [
       "[70, 71, 72, 73, 74, ..., 78, 79, 80, 81, 82]\n",
       "Length: 13\n",
       "Categories (13, int64): [70, 71, 72, 73, ..., 79, 80, 81, 82]"
      ]
     },
     "execution_count": 151,
     "metadata": {},
     "output_type": "execute_result"
    }
   ],
   "source": [
    "# 제조 년도: model year -> 카테고리로 변경\n",
    "df['model year'].unique()\n",
    "\n",
    "# 숫자를 카테고리로\n",
    "df['model year'] = df['model year'].astype('category')\n",
    "df.info()\n",
    "df['model year'].unique()"
   ]
  },
  {
   "cell_type": "code",
   "execution_count": 152,
   "id": "83ce53f4",
   "metadata": {},
   "outputs": [],
   "source": [
    "# 데이터 전처리\n",
    "# 1. 누락 데이터 처리: 제거, 치환\n",
    "# 2. 중복 데이터 처리: 제거(행, 컬럼), ...\n",
    "# 3. 자료 표준화\n",
    "#    1) 단위 환산\n",
    "#    2) 자료형 변경: object -> float, object -> category\n",
    "#       2.1) 변환 불가능한 자료는 NaN으로 치환하고 자료형 변경"
   ]
  },
  {
   "cell_type": "code",
   "execution_count": 176,
   "id": "2d5d428b",
   "metadata": {},
   "outputs": [
    {
     "name": "stdout",
     "output_type": "stream",
     "text": [
      "      mpg  cylinders  displacement horsepower  weight  acceleration  \\\n",
      "0    18.0          8         307.0      130.0  3504.0          12.0   \n",
      "1    15.0          8         350.0      165.0  3693.0          11.5   \n",
      "2    18.0          8         318.0      150.0  3436.0          11.0   \n",
      "3    16.0          8         304.0      150.0  3433.0          12.0   \n",
      "4    17.0          8         302.0      140.0  3449.0          10.5   \n",
      "..    ...        ...           ...        ...     ...           ...   \n",
      "393  27.0          4         140.0      86.00  2790.0          15.6   \n",
      "394  44.0          4          97.0      52.00  2130.0          24.6   \n",
      "395  32.0          4         135.0      84.00  2295.0          11.6   \n",
      "396  28.0          4         120.0      79.00  2625.0          18.6   \n",
      "397  31.0          4         119.0      82.00  2720.0          19.4   \n",
      "\n",
      "     model year  origin                       name  \n",
      "0            70       1  chevrolet chevelle malibu  \n",
      "1            70       1          buick skylark 320  \n",
      "2            70       1         plymouth satellite  \n",
      "3            70       1              amc rebel sst  \n",
      "4            70       1                ford torino  \n",
      "..          ...     ...                        ...  \n",
      "393          82       1            ford mustang gl  \n",
      "394          82       2                  vw pickup  \n",
      "395          82       1              dodge rampage  \n",
      "396          82       1                ford ranger  \n",
      "397          82       1                 chevy s-10  \n",
      "\n",
      "[398 rows x 9 columns]\n",
      "\n"
     ]
    },
    {
     "data": {
      "image/png": "[encoded data removed]",
      "text/plain": [
       "<Figure size 720x360 with 1 Axes>"
      ]
     },
     "metadata": {
      "needs_background": "light"
     },
     "output_type": "display_data"
    },
    {
     "data": {
      "image/png": "[encoded data removed]",
      "text/plain": [
       "<Figure size 1440x360 with 2 Axes>"
      ]
     },
     "metadata": {
      "needs_background": "light"
     },
     "output_type": "display_data"
    }
   ],
   "source": [
    "# 과제\n",
    "# auto-mpg.csv 파일을 읽어서\n",
    "df = pd.read_csv('dataset/auto-mpg.csv',header=None)\n",
    "#print(df)\n",
    "#print()\n",
    "\n",
    "# 1. 컬럼명 지정\n",
    "df.columns = ['mpg','cylinders','displacement','horsepower','weight',\n",
    "              'acceleration','model year','origin','name']\n",
    "print(df)\n",
    "print()\n",
    "\n",
    "# 2. 데이터 정보 확인\n",
    "#df.info()\n",
    "\n",
    "# 3. 누락 데이터 처리 -> 삭제\n",
    "df.isnull().sum()\n",
    "#df['horsepower'].unique()\n",
    "df['horsepower'].replace('?',np.nan,inplace=True)\n",
    "#df.dropna(subset='horsepower',axis=0)\n",
    "\n",
    "\n",
    "# 4. weight와 mpg의 scatter 그래프 작성\n",
    "df.plot(kind='scatter',x='weight',y='mpg',figsize=(10,5),color='g',s=50)\n",
    "\n",
    "# 5. 제조국가별로 mpg를 boxplot으로 표현\n",
    "fig = plt.figure(figsize=(20, 5))\n",
    "ax1 = fig.add_subplot(1, 2, 1)\n",
    "ax2 = fig.add_subplot(1, 2, 2)\n",
    "\n",
    "ax1.boxplot(x=[df[df['origin']==1]['mpg'],\n",
    "               df[df['origin']==2]['mpg'],\n",
    "               df[df['origin']==3]['mpg']], \n",
    "         labels=['USA', 'EU', 'JAPAN'])\n",
    "\n",
    "ax2.boxplot(x=[df[df['origin']==1]['mpg'],\n",
    "               df[df['origin']==2]['mpg'],\n",
    "               df[df['origin']==3]['mpg']], \n",
    "         labels=['USA', 'EU', 'JAPAN'],\n",
    "         vert=False)\n",
    "\n",
    "ax1.set_title('제조국가별 연비 분포(수직 박스 플롯)')\n",
    "ax2.set_title('제조국가별 연비 분포(수평 박스 플롯)')\n",
    "\n",
    "plt.show()\n",
    "\n",
    "# 6. 중복 데이터를 제거 (행 제거)\n",
    "\n",
    "\n",
    "\n",
    "# 7. 제조 국가 1:USA, 2:EU, 3:JPN을 컬럼의 값을 번경\n",
    "\n",
    "\n",
    "\n",
    "\n"
   ]
  }
 ],
 "metadata": {
  "kernelspec": {
   "display_name": "Python 3 (ipykernel)",
   "language": "python",
   "name": "python3"
  },
  "language_info": {
   "codemirror_mode": {
    "name": "ipython",
    "version": 3
   },
   "file_extension": ".py",
   "mimetype": "text/x-python",
   "name": "python",
   "nbconvert_exporter": "python",
   "pygments_lexer": "ipython3",
   "version": "3.9.7"
  }
 },
 "nbformat": 4,
 "nbformat_minor": 5
}
