{
 "cells": [
  {
   "cell_type": "code",
   "execution_count": 5,
   "id": "21767cd0",
   "metadata": {},
   "outputs": [],
   "source": [
    "# 지도 그래프\n",
    "import folium\n",
    "import pandas as pd"
   ]
  },
  {
   "cell_type": "code",
   "execution_count": 4,
   "id": "99b7b847",
   "metadata": {},
   "outputs": [],
   "source": [
    "\n",
    "# 서울 지도 만들기\n",
    "seoul_map2 = folium.Map(location=[37.55,126.98], tiles='Stamen Terrain', \n",
    "                        zoom_start=12)\n",
    "seoul_map3 = folium.Map(location=[37.55,126.98], tiles='Stamen Toner', \n",
    "                        zoom_start=15)\n",
    "\n",
    "# 지도를 HTML 파일로 저장하기\n",
    "seoul_map2.save('./dataset/seoul2.html')\n",
    "seoul_map3.save('./dataset/seoul3.html')"
   ]
  },
  {
   "cell_type": "code",
   "execution_count": null,
   "id": "b3c80858",
   "metadata": {},
   "outputs": [],
   "source": []
  },
  {
   "cell_type": "code",
   "execution_count": 28,
   "id": "0a5a39ad",
   "metadata": {},
   "outputs": [
    {
     "data": {
      "text/html": [
       "<div>\n",
       "<style scoped>\n",
       "    .dataframe tbody tr th:only-of-type {\n",
       "        vertical-align: middle;\n",
       "    }\n",
       "\n",
       "    .dataframe tbody tr th {\n",
       "        vertical-align: top;\n",
       "    }\n",
       "\n",
       "    .dataframe thead th {\n",
       "        text-align: right;\n",
       "    }\n",
       "</style>\n",
       "<table border=\"1\" class=\"dataframe\">\n",
       "  <thead>\n",
       "    <tr style=\"text-align: right;\">\n",
       "      <th></th>\n",
       "      <th>위도</th>\n",
       "      <th>경도</th>\n",
       "    </tr>\n",
       "    <tr>\n",
       "      <th>학교명</th>\n",
       "      <th></th>\n",
       "      <th></th>\n",
       "    </tr>\n",
       "  </thead>\n",
       "  <tbody>\n",
       "    <tr>\n",
       "      <th>KAIST 서울캠퍼스</th>\n",
       "      <td>37.592573</td>\n",
       "      <td>127.046737</td>\n",
       "    </tr>\n",
       "    <tr>\n",
       "      <th>KC대학교</th>\n",
       "      <td>37.548345</td>\n",
       "      <td>126.854797</td>\n",
       "    </tr>\n",
       "    <tr>\n",
       "      <th>가톨릭대학교(성신교정)</th>\n",
       "      <td>37.585922</td>\n",
       "      <td>127.004328</td>\n",
       "    </tr>\n",
       "    <tr>\n",
       "      <th>가톨릭대학교(성의교정)</th>\n",
       "      <td>37.499623</td>\n",
       "      <td>127.006065</td>\n",
       "    </tr>\n",
       "    <tr>\n",
       "      <th>감리교신학대학교</th>\n",
       "      <td>37.567645</td>\n",
       "      <td>126.961610</td>\n",
       "    </tr>\n",
       "  </tbody>\n",
       "</table>\n",
       "</div>"
      ],
      "text/plain": [
       "                     위도          경도\n",
       "학교명                                \n",
       "KAIST 서울캠퍼스   37.592573  127.046737\n",
       "KC대학교         37.548345  126.854797\n",
       "가톨릭대학교(성신교정)  37.585922  127.004328\n",
       "가톨릭대학교(성의교정)  37.499623  127.006065\n",
       "감리교신학대학교      37.567645  126.961610"
      ]
     },
     "execution_count": 28,
     "metadata": {},
     "output_type": "execute_result"
    }
   ],
   "source": [
    "df = pd.read_excel(\"dataset/서울지역 대학교 위치.xlsx\", header=None,\n",
    "                   skiprows=1)\n",
    "df.columns = ['학교명', '위도','경도']\n",
    "# 대학교명 위도 경도 의 자료가 있음\n",
    "# 학교명을 인덱스로 설정\n",
    "df.set_index('학교명', inplace=True)\n",
    "df.head()"
   ]
  },
  {
   "cell_type": "code",
   "execution_count": 23,
   "id": "6149c7e8",
   "metadata": {},
   "outputs": [],
   "source": [
    "seoul_map = folium.Map(location=[37.55,126.98], tiles='Stamen Terrain', \n",
    "                        zoom_start=12)\n",
    "\n",
    "for name, lat, lng in zip(df.index, df.위도, df.경도):\n",
    "    folium.Marker([lat, lng], popup=name).add_to(seoul_map)\n",
    "\n",
    "seoul_map.save('dataset/seoul.html')"
   ]
  },
  {
   "cell_type": "code",
   "execution_count": 32,
   "id": "4894beb3",
   "metadata": {},
   "outputs": [],
   "source": [
    "seoul_map = folium.Map(location=[37.55,126.98], tiles='Stamen Terrain', \n",
    "                        zoom_start=12)\n",
    "\n",
    "for name, lat, lng in zip(df.index, df.위도, df.경도):\n",
    "    folium.CircleMarker([lat, lng],\n",
    "                    radius=10,         # 원의 반지름\n",
    "                    color='black',     # 원의 둘레 색상\n",
    "                    fill=True,\n",
    "                    fill_color='red', # 원을 채우는 색\n",
    "                    fill_opacity=0.7, # 투명도    \n",
    "                    popup=name).add_to(seoul_map)\n",
    "\n",
    "seoul_map.save('dataset/seoul_curcle.html')"
   ]
  },
  {
   "cell_type": "code",
   "execution_count": 33,
   "id": "b0115bbf",
   "metadata": {},
   "outputs": [],
   "source": [
    "import json"
   ]
  },
  {
   "cell_type": "code",
   "execution_count": 34,
   "id": "8f612439",
   "metadata": {},
   "outputs": [],
   "source": [
    "# 경기도 인구변화 데이터를 불러와서 데이터프레임으로 변환\n",
    "file_path = './dataset/경기도인구데이터.xlsx'\n",
    "df = pd.read_excel(file_path, index_col='구분')  \n",
    "df.columns = df.columns.map(str)\n",
    "\n",
    "# 경기도 시군구 경계 정보를 가진 geo-json 파일 불러오기\n",
    "geo_path = './dataset/경기도행정구역경계.json'\n",
    "try:\n",
    "    geo_data = json.load(open(geo_path, encoding='utf-8'))\n",
    "except:\n",
    "    geo_data = json.load(open(geo_path, encoding='utf-8-sig'))\n",
    "    "
   ]
  },
  {
   "cell_type": "code",
   "execution_count": 35,
   "id": "a9694781",
   "metadata": {},
   "outputs": [],
   "source": [
    "# 경기도 지도 만들기\n",
    "g_map = folium.Map(location=[37.5502,126.982], \n",
    "                   tiles='Stamen Terrain', zoom_start=9)\n",
    "\n",
    "# 출력할 연도 선택 (2007 ~ 2017년 중에서 선택)\n",
    "year = '2017'  \n",
    "\n",
    "# Choropleth 클래스로 단계구분도 표시하기\n",
    "folium.Choropleth(geo_data=geo_data,    # 지도 경계\n",
    "                 data = df[year],      # 표시하려는 데이터\n",
    "                 columns = [df.index, df[year]],  # 열 지정\n",
    "                 fill_color='YlOrRd', fill_opacity=0.7, line_opacity=0.3,\n",
    "                 threshold_scale=[10000, 100000, 300000, 500000, 700000],               \n",
    "                 key_on='feature.properties.name',\n",
    "                 ).add_to(g_map)\n",
    "\n",
    "# 지도를 HTML 파일로 저장하기\n",
    "g_map.save('./dataset/gyonggi_population_' + year + '.html')"
   ]
  }
 ],
 "metadata": {
  "kernelspec": {
   "display_name": "Python 3 (ipykernel)",
   "language": "python",
   "name": "python3"
  },
  "language_info": {
   "codemirror_mode": {
    "name": "ipython",
    "version": 3
   },
   "file_extension": ".py",
   "mimetype": "text/x-python",
   "name": "python",
   "nbconvert_exporter": "python",
   "pygments_lexer": "ipython3",
   "version": "3.9.7"
  }
 },
 "nbformat": 4,
 "nbformat_minor": 5
}
