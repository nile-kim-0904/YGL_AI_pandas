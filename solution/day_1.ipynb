{
 "cells": [
  {
   "cell_type": "code",
   "execution_count": 1,
   "id": "dda09df2",
   "metadata": {},
   "outputs": [],
   "source": [
    "# 시리즈 : 1차원 배열 -> 인덱스와 값이 존재\n",
    "import pandas as pd   # pandas의 자료구조는 series와 dataframe이 존재"
   ]
  },
  {
   "cell_type": "code",
   "execution_count": 6,
   "id": "aa48ed01",
   "metadata": {},
   "outputs": [
    {
     "name": "stdout",
     "output_type": "stream",
     "text": [
      "<class 'dict'> {'a': 1, 'b': 2, 'c': 3}\n",
      "<class 'pandas.core.series.Series'> \n",
      " a    1\n",
      "b    2\n",
      "c    3\n",
      "dtype: int64\n",
      "<class 'list'> [1, 2, 3]\n",
      "<class 'pandas.core.series.Series'> \n",
      " 0    1\n",
      "1    2\n",
      "2    3\n",
      "dtype: int64\n"
     ]
    }
   ],
   "source": [
    "dict_data = {'a':1, 'b':2, 'c':3}\n",
    "list_data = [1,2,3]\n",
    "\n",
    "srd = pd.Series(dict_data)\n",
    "srl = pd.Series(list_data)\n",
    "\n",
    "print(type(dict_data), dict_data)\n",
    "print(type(srd), '\\n',srd)\n",
    "\n",
    "print(type(list_data), list_data)\n",
    "print(type(srl), '\\n',srl)"
   ]
  },
  {
   "cell_type": "code",
   "execution_count": 10,
   "id": "364dc214",
   "metadata": {},
   "outputs": [
    {
     "name": "stdout",
     "output_type": "stream",
     "text": [
      "srd.index Index(['a', 'b', 'c'], dtype='object')\n",
      "srl.index RangeIndex(start=0, stop=3, step=1)\n",
      "srd.values [1 2 3]\n",
      "srl.values [1 2 3]\n"
     ]
    }
   ],
   "source": [
    "# 인덱스 확인\n",
    "print(\"srd.index\", srd.index)\n",
    "print(\"srl.index\", srl.index)\n",
    "\n",
    "# 시리즈의 값을 확인\n",
    "print(\"srd.values\", srd.values)\n",
    "print(\"srl.values\", srl.values)"
   ]
  },
  {
   "cell_type": "code",
   "execution_count": 16,
   "id": "0251c3d8",
   "metadata": {},
   "outputs": [],
   "source": [
    "# 각 자료의 원소 선택\n",
    "sr_data = pd.Series(list(range(10)))\n",
    "# srl[ idx_start : idx_end ]  start 포함, end 포함하지 않음\n",
    "sr_data[ 1:4]\n",
    "sr_key = pd.Series({'a': 1, 'b': 2, 'c': 3, 'd':4, 'e':5})"
   ]
  },
  {
   "cell_type": "code",
   "execution_count": 19,
   "id": "e2764114",
   "metadata": {},
   "outputs": [
    {
     "name": "stdout",
     "output_type": "stream",
     "text": [
      "a    1\n",
      "b    2\n",
      "dtype: int64\n",
      "a    1\n",
      "c    3\n",
      "dtype: int64\n",
      "a    1\n",
      "b    2\n",
      "c    3\n",
      "dtype: int64\n",
      "a    1\n",
      "b    2\n",
      "dtype: int64\n"
     ]
    }
   ],
   "source": [
    "print(sr_key[['a', 'b']])\n",
    "print(sr_key[[0,2]])\n",
    "\n",
    "print(sr_key['a':'c'])  # 'c'를 포함\n",
    "print(sr_key[0:2])   # 인덱스 첨자는 2를 포함하지 않음"
   ]
  },
  {
   "cell_type": "code",
   "execution_count": 28,
   "id": "60d44ba1",
   "metadata": {},
   "outputs": [],
   "source": [
    "sr_list = pd.Series(list(range(5)), index=['a','b','c','d','x'])\n",
    "sr_list\n",
    "sr_list1 = pd.Series(list(range(10)), index=[x for x in 'abcdefghij'])"
   ]
  },
  {
   "cell_type": "code",
   "execution_count": 31,
   "id": "9058c36a",
   "metadata": {},
   "outputs": [
    {
     "name": "stdout",
     "output_type": "stream",
     "text": [
      "9 9\n",
      "b    1\n",
      "c    2\n",
      "d    3\n",
      "dtype: int64 \t b    1\n",
      "c    2\n",
      "d    3\n",
      "e    4\n",
      "dtype: int64\n"
     ]
    },
    {
     "data": {
      "text/plain": [
       "b    1\n",
       "d    3\n",
       "dtype: int64"
      ]
     },
     "execution_count": 31,
     "metadata": {},
     "output_type": "execute_result"
    }
   ],
   "source": [
    "# 마지막 자료를 출력 : 인덱스명과 첨자 둘다 \n",
    "print(sr_list1[-1], sr_list1['j'])\n",
    "# 1번째부터 3번째 까지 자료 출력 , 인덱스명 으로도 출력\n",
    "print(sr_list1[1:4], '\\t', sr_list1['b':'e'])\n",
    "# 인덱스명 'b'와 'd'의 값을 출력\n",
    "sr_list1[['b', 'd']]"
   ]
  },
  {
   "cell_type": "code",
   "execution_count": 33,
   "id": "ed547fe6",
   "metadata": {},
   "outputs": [
    {
     "data": {
      "text/html": [
       "<div>\n",
       "<style scoped>\n",
       "    .dataframe tbody tr th:only-of-type {\n",
       "        vertical-align: middle;\n",
       "    }\n",
       "\n",
       "    .dataframe tbody tr th {\n",
       "        vertical-align: top;\n",
       "    }\n",
       "\n",
       "    .dataframe thead th {\n",
       "        text-align: right;\n",
       "    }\n",
       "</style>\n",
       "<table border=\"1\" class=\"dataframe\">\n",
       "  <thead>\n",
       "    <tr style=\"text-align: right;\">\n",
       "      <th></th>\n",
       "      <th>c0</th>\n",
       "      <th>c1</th>\n",
       "      <th>c2</th>\n",
       "    </tr>\n",
       "  </thead>\n",
       "  <tbody>\n",
       "    <tr>\n",
       "      <th>0</th>\n",
       "      <td>1</td>\n",
       "      <td>4</td>\n",
       "      <td>7</td>\n",
       "    </tr>\n",
       "    <tr>\n",
       "      <th>1</th>\n",
       "      <td>2</td>\n",
       "      <td>5</td>\n",
       "      <td>8</td>\n",
       "    </tr>\n",
       "    <tr>\n",
       "      <th>2</th>\n",
       "      <td>3</td>\n",
       "      <td>6</td>\n",
       "      <td>9</td>\n",
       "    </tr>\n",
       "  </tbody>\n",
       "</table>\n",
       "</div>"
      ],
      "text/plain": [
       "   c0  c1  c2\n",
       "0   1   4   7\n",
       "1   2   5   8\n",
       "2   3   6   9"
      ]
     },
     "execution_count": 33,
     "metadata": {},
     "output_type": "execute_result"
    }
   ],
   "source": [
    "#dataframe : 2차원, pandas.DataFrame(data(2차원), [index=  ], [columns= ])\n",
    "# dictionary 데이터로 데이터프레임 생성\n",
    "dict_data = {'c0':[1,2,3], 'c1':[4,5,6],'c2':[7,8,9]}\n",
    "df = pd.DataFrame(dict_data)\n",
    "df"
   ]
  },
  {
   "cell_type": "code",
   "execution_count": 34,
   "id": "aaa38681",
   "metadata": {},
   "outputs": [
    {
     "data": {
      "text/html": [
       "<div>\n",
       "<style scoped>\n",
       "    .dataframe tbody tr th:only-of-type {\n",
       "        vertical-align: middle;\n",
       "    }\n",
       "\n",
       "    .dataframe tbody tr th {\n",
       "        vertical-align: top;\n",
       "    }\n",
       "\n",
       "    .dataframe thead th {\n",
       "        text-align: right;\n",
       "    }\n",
       "</style>\n",
       "<table border=\"1\" class=\"dataframe\">\n",
       "  <thead>\n",
       "    <tr style=\"text-align: right;\">\n",
       "      <th></th>\n",
       "      <th>나이</th>\n",
       "      <th>성별</th>\n",
       "      <th>학교</th>\n",
       "    </tr>\n",
       "  </thead>\n",
       "  <tbody>\n",
       "    <tr>\n",
       "      <th>준서</th>\n",
       "      <td>15</td>\n",
       "      <td>남</td>\n",
       "      <td>수리중</td>\n",
       "    </tr>\n",
       "    <tr>\n",
       "      <th>예은</th>\n",
       "      <td>17</td>\n",
       "      <td>여</td>\n",
       "      <td>덕명중</td>\n",
       "    </tr>\n",
       "  </tbody>\n",
       "</table>\n",
       "</div>"
      ],
      "text/plain": [
       "    나이 성별   학교\n",
       "준서  15  남  수리중\n",
       "예은  17  여  덕명중"
      ]
     },
     "execution_count": 34,
     "metadata": {},
     "output_type": "execute_result"
    }
   ],
   "source": [
    "# dataframe -> index명과 column 명을 부여\n",
    "df = pd.DataFrame([[15,'남','수리중'], [17,'여','덕명중']],\n",
    "                 index=['준서', '예은'],\n",
    "                 columns=['나이', '성별','학교'])\n",
    "df"
   ]
  },
  {
   "cell_type": "code",
   "execution_count": 48,
   "id": "58d05ade",
   "metadata": {},
   "outputs": [
    {
     "data": {
      "text/html": [
       "<div>\n",
       "<style scoped>\n",
       "    .dataframe tbody tr th:only-of-type {\n",
       "        vertical-align: middle;\n",
       "    }\n",
       "\n",
       "    .dataframe tbody tr th {\n",
       "        vertical-align: top;\n",
       "    }\n",
       "\n",
       "    .dataframe thead th {\n",
       "        text-align: right;\n",
       "    }\n",
       "</style>\n",
       "<table border=\"1\" class=\"dataframe\">\n",
       "  <thead>\n",
       "    <tr style=\"text-align: right;\">\n",
       "      <th></th>\n",
       "      <th>연령</th>\n",
       "      <th>남녀</th>\n",
       "      <th>소속</th>\n",
       "    </tr>\n",
       "  </thead>\n",
       "  <tbody>\n",
       "    <tr>\n",
       "      <th>a</th>\n",
       "      <td>15</td>\n",
       "      <td>남</td>\n",
       "      <td>수리중</td>\n",
       "    </tr>\n",
       "    <tr>\n",
       "      <th>b</th>\n",
       "      <td>17</td>\n",
       "      <td>여</td>\n",
       "      <td>덕명중</td>\n",
       "    </tr>\n",
       "    <tr>\n",
       "      <th>c</th>\n",
       "      <td>17</td>\n",
       "      <td>남</td>\n",
       "      <td>덕명중</td>\n",
       "    </tr>\n",
       "  </tbody>\n",
       "</table>\n",
       "</div>"
      ],
      "text/plain": [
       "   연령 남녀   소속\n",
       "a  15  남  수리중\n",
       "b  17  여  덕명중\n",
       "c  17  남  덕명중"
      ]
     },
     "execution_count": 48,
     "metadata": {},
     "output_type": "execute_result"
    }
   ],
   "source": [
    "# 인덱스명을 변경 -> 행 인덱스, 열 이름\n",
    "# 객체명.index = 새로운 인덱스명\n",
    "# 객체명.column = 새로운 컬럼명\n",
    "df.index=['a','b','c']\n",
    "df\n",
    "df.columns = ['연령','남녀','소속']\n",
    "df"
   ]
  },
  {
   "cell_type": "code",
   "execution_count": 49,
   "id": "2594c84c",
   "metadata": {},
   "outputs": [
    {
     "data": {
      "text/html": [
       "<div>\n",
       "<style scoped>\n",
       "    .dataframe tbody tr th:only-of-type {\n",
       "        vertical-align: middle;\n",
       "    }\n",
       "\n",
       "    .dataframe tbody tr th {\n",
       "        vertical-align: top;\n",
       "    }\n",
       "\n",
       "    .dataframe thead th {\n",
       "        text-align: right;\n",
       "    }\n",
       "</style>\n",
       "<table border=\"1\" class=\"dataframe\">\n",
       "  <thead>\n",
       "    <tr style=\"text-align: right;\">\n",
       "      <th></th>\n",
       "      <th>연령</th>\n",
       "      <th>성별</th>\n",
       "      <th>소속</th>\n",
       "    </tr>\n",
       "  </thead>\n",
       "  <tbody>\n",
       "    <tr>\n",
       "      <th>준서</th>\n",
       "      <td>15</td>\n",
       "      <td>남</td>\n",
       "      <td>수리중</td>\n",
       "    </tr>\n",
       "    <tr>\n",
       "      <th>b</th>\n",
       "      <td>17</td>\n",
       "      <td>여</td>\n",
       "      <td>덕명중</td>\n",
       "    </tr>\n",
       "    <tr>\n",
       "      <th>c</th>\n",
       "      <td>17</td>\n",
       "      <td>남</td>\n",
       "      <td>덕명중</td>\n",
       "    </tr>\n",
       "  </tbody>\n",
       "</table>\n",
       "</div>"
      ],
      "text/plain": [
       "    연령 성별   소속\n",
       "준서  15  남  수리중\n",
       "b   17  여  덕명중\n",
       "c   17  남  덕명중"
      ]
     },
     "execution_count": 49,
     "metadata": {},
     "output_type": "execute_result"
    }
   ],
   "source": [
    "# 일부 인덱스명만 수정\n",
    "# 객체명.rename(index={기존인덱스:새로운인덱스, ,,,})\n",
    "# 객체명.rename(columns={기존컬럼명:새로운 컬럼명, ,,,})\n",
    "# '남녀'를 '성별'로 컬럼 변경, 'a'->'준서'로 변경\n",
    "df.rename(index={'a':'준서'}, columns={'남녀':'성별'}, inplace=True)\n",
    "df"
   ]
  },
  {
   "cell_type": "code",
   "execution_count": 55,
   "id": "e50b61c8",
   "metadata": {},
   "outputs": [
    {
     "data": {
      "text/html": [
       "<div>\n",
       "<style scoped>\n",
       "    .dataframe tbody tr th:only-of-type {\n",
       "        vertical-align: middle;\n",
       "    }\n",
       "\n",
       "    .dataframe tbody tr th {\n",
       "        vertical-align: top;\n",
       "    }\n",
       "\n",
       "    .dataframe thead th {\n",
       "        text-align: right;\n",
       "    }\n",
       "</style>\n",
       "<table border=\"1\" class=\"dataframe\">\n",
       "  <thead>\n",
       "    <tr style=\"text-align: right;\">\n",
       "      <th></th>\n",
       "      <th>연령</th>\n",
       "      <th>소속</th>\n",
       "    </tr>\n",
       "  </thead>\n",
       "  <tbody>\n",
       "    <tr>\n",
       "      <th>준서</th>\n",
       "      <td>15</td>\n",
       "      <td>수리중</td>\n",
       "    </tr>\n",
       "    <tr>\n",
       "      <th>b</th>\n",
       "      <td>17</td>\n",
       "      <td>덕명중</td>\n",
       "    </tr>\n",
       "    <tr>\n",
       "      <th>c</th>\n",
       "      <td>17</td>\n",
       "      <td>덕명중</td>\n",
       "    </tr>\n",
       "  </tbody>\n",
       "</table>\n",
       "</div>"
      ],
      "text/plain": [
       "    연령   소속\n",
       "준서  15  수리중\n",
       "b   17  덕명중\n",
       "c   17  덕명중"
      ]
     },
     "execution_count": 55,
     "metadata": {},
     "output_type": "execute_result"
    }
   ],
   "source": [
    "# 행과 열을 삭제 \n",
    "# 행 삭제 -> 객체.drop(행인덱스 또는 배열, axis=0)\n",
    "# 열 삭제 -> 객체.drop(열이름 또는 배열, axis=1)\n",
    "df.drop('준서', axis=0)\n",
    "df.drop('성별', axis=1)"
   ]
  },
  {
   "cell_type": "code",
   "execution_count": null,
   "id": "f1fe336f",
   "metadata": {},
   "outputs": [],
   "source": [
    "# 이름을 키로,  국어, 영어, 수학, 과학 점수를 값으로\n",
    "# 입력받아 dictioary에 저장한 후\n",
    "# 해당 자료를 데이터 프레임으로 전환 -> 인덱스명은 이름으로"
   ]
  },
  {
   "cell_type": "code",
   "execution_count": 119,
   "id": "1881ae9b",
   "metadata": {},
   "outputs": [],
   "source": [
    "students = {}\n",
    "def create_student():\n",
    "    while True:\n",
    "        name = input(\"이름 입력 >\")\n",
    "        if name == 'q':\n",
    "            break\n",
    "        score = list(map(int, input(\"4과목 점수 입력 >\").split()))\n",
    "        students[name] = score"
   ]
  },
  {
   "cell_type": "code",
   "execution_count": 137,
   "id": "97fa1365",
   "metadata": {},
   "outputs": [],
   "source": [
    "students = []\n",
    "def create_student_list():\n",
    "    while True:\n",
    "        value = []\n",
    "        name = input(\"이름 입력 >\")\n",
    "        if name == 'q':\n",
    "            break\n",
    "        value.append(name)\n",
    "        score = list(map(int, input(\"4과목 점수 입력 >\").split()))\n",
    "        value.extend(score)   # list의 각 요소를 기존 리스트의 요소로 추가\n",
    "        students.append(value)"
   ]
  },
  {
   "cell_type": "code",
   "execution_count": 138,
   "id": "2b8cb57e",
   "metadata": {},
   "outputs": [
    {
     "name": "stdout",
     "output_type": "stream",
     "text": [
      "이름 입력 >a\n",
      "4과목 점수 입력 >1 2 3 4\n",
      "이름 입력 >b\n",
      "4과목 점수 입력 >4 5 6 7\n",
      "이름 입력 >c \n",
      "4과목 점수 입력 >5 6 7 8\n",
      "이름 입력 >q\n"
     ]
    }
   ],
   "source": [
    "create_student_list()"
   ]
  },
  {
   "cell_type": "code",
   "execution_count": 142,
   "id": "a49d798e",
   "metadata": {},
   "outputs": [],
   "source": [
    "df1 = pd.DataFrame(students, columns=['이름','국어','영어','수학','과학'])\n",
    "df1\n",
    "# 특정 컬럼을 인덱스로 설정\n",
    "df1.set_index('이름',inplace=True)"
   ]
  },
  {
   "cell_type": "code",
   "execution_count": 144,
   "id": "165ca25f",
   "metadata": {},
   "outputs": [
    {
     "data": {
      "text/html": [
       "<div>\n",
       "<style scoped>\n",
       "    .dataframe tbody tr th:only-of-type {\n",
       "        vertical-align: middle;\n",
       "    }\n",
       "\n",
       "    .dataframe tbody tr th {\n",
       "        vertical-align: top;\n",
       "    }\n",
       "\n",
       "    .dataframe thead th {\n",
       "        text-align: right;\n",
       "    }\n",
       "</style>\n",
       "<table border=\"1\" class=\"dataframe\">\n",
       "  <thead>\n",
       "    <tr style=\"text-align: right;\">\n",
       "      <th></th>\n",
       "      <th>이름</th>\n",
       "      <th>국어</th>\n",
       "      <th>영어</th>\n",
       "      <th>수학</th>\n",
       "      <th>과학</th>\n",
       "    </tr>\n",
       "    <tr>\n",
       "      <th>이름</th>\n",
       "      <th></th>\n",
       "      <th></th>\n",
       "      <th></th>\n",
       "      <th></th>\n",
       "      <th></th>\n",
       "    </tr>\n",
       "  </thead>\n",
       "  <tbody>\n",
       "    <tr>\n",
       "      <th>a</th>\n",
       "      <td>a</td>\n",
       "      <td>1</td>\n",
       "      <td>2</td>\n",
       "      <td>3</td>\n",
       "      <td>4</td>\n",
       "    </tr>\n",
       "    <tr>\n",
       "      <th>b</th>\n",
       "      <td>b</td>\n",
       "      <td>4</td>\n",
       "      <td>5</td>\n",
       "      <td>6</td>\n",
       "      <td>7</td>\n",
       "    </tr>\n",
       "    <tr>\n",
       "      <th>c</th>\n",
       "      <td>c</td>\n",
       "      <td>5</td>\n",
       "      <td>6</td>\n",
       "      <td>7</td>\n",
       "      <td>8</td>\n",
       "    </tr>\n",
       "  </tbody>\n",
       "</table>\n",
       "</div>"
      ],
      "text/plain": [
       "    이름  국어  영어  수학  과학\n",
       "이름                    \n",
       "a    a   1   2   3   4\n",
       "b    b   4   5   6   7\n",
       "c   c    5   6   7   8"
      ]
     },
     "execution_count": 144,
     "metadata": {},
     "output_type": "execute_result"
    }
   ],
   "source": [
    "df  = pd.DataFrame(students, columns=['이름','국어','영어','수학','과학'])\n",
    "df.set_index('이름', drop=False)"
   ]
  },
  {
   "cell_type": "code",
   "execution_count": 143,
   "id": "ab89a298",
   "metadata": {},
   "outputs": [
    {
     "data": {
      "text/html": [
       "<div>\n",
       "<style scoped>\n",
       "    .dataframe tbody tr th:only-of-type {\n",
       "        vertical-align: middle;\n",
       "    }\n",
       "\n",
       "    .dataframe tbody tr th {\n",
       "        vertical-align: top;\n",
       "    }\n",
       "\n",
       "    .dataframe thead th {\n",
       "        text-align: right;\n",
       "    }\n",
       "</style>\n",
       "<table border=\"1\" class=\"dataframe\">\n",
       "  <thead>\n",
       "    <tr style=\"text-align: right;\">\n",
       "      <th></th>\n",
       "      <th>국어</th>\n",
       "      <th>영어</th>\n",
       "      <th>수학</th>\n",
       "      <th>과학</th>\n",
       "    </tr>\n",
       "    <tr>\n",
       "      <th>이름</th>\n",
       "      <th></th>\n",
       "      <th></th>\n",
       "      <th></th>\n",
       "      <th></th>\n",
       "    </tr>\n",
       "  </thead>\n",
       "  <tbody>\n",
       "    <tr>\n",
       "      <th>a</th>\n",
       "      <td>1</td>\n",
       "      <td>2</td>\n",
       "      <td>3</td>\n",
       "      <td>4</td>\n",
       "    </tr>\n",
       "    <tr>\n",
       "      <th>b</th>\n",
       "      <td>4</td>\n",
       "      <td>5</td>\n",
       "      <td>6</td>\n",
       "      <td>7</td>\n",
       "    </tr>\n",
       "    <tr>\n",
       "      <th>c</th>\n",
       "      <td>5</td>\n",
       "      <td>6</td>\n",
       "      <td>7</td>\n",
       "      <td>8</td>\n",
       "    </tr>\n",
       "  </tbody>\n",
       "</table>\n",
       "</div>"
      ],
      "text/plain": [
       "    국어  영어  수학  과학\n",
       "이름                \n",
       "a    1   2   3   4\n",
       "b    4   5   6   7\n",
       "c    5   6   7   8"
      ]
     },
     "execution_count": 143,
     "metadata": {},
     "output_type": "execute_result"
    }
   ],
   "source": [
    "df1"
   ]
  },
  {
   "cell_type": "code",
   "execution_count": 135,
   "id": "034859f4",
   "metadata": {},
   "outputs": [
    {
     "data": {
      "text/html": [
       "<div>\n",
       "<style scoped>\n",
       "    .dataframe tbody tr th:only-of-type {\n",
       "        vertical-align: middle;\n",
       "    }\n",
       "\n",
       "    .dataframe tbody tr th {\n",
       "        vertical-align: top;\n",
       "    }\n",
       "\n",
       "    .dataframe thead th {\n",
       "        text-align: right;\n",
       "    }\n",
       "</style>\n",
       "<table border=\"1\" class=\"dataframe\">\n",
       "  <thead>\n",
       "    <tr style=\"text-align: right;\">\n",
       "      <th></th>\n",
       "      <th>0</th>\n",
       "      <th>1</th>\n",
       "      <th>2</th>\n",
       "      <th>3</th>\n",
       "    </tr>\n",
       "  </thead>\n",
       "  <tbody>\n",
       "    <tr>\n",
       "      <th>a</th>\n",
       "      <td>1</td>\n",
       "      <td>2</td>\n",
       "      <td>3</td>\n",
       "      <td>4</td>\n",
       "    </tr>\n",
       "    <tr>\n",
       "      <th>b</th>\n",
       "      <td>3</td>\n",
       "      <td>4</td>\n",
       "      <td>5</td>\n",
       "      <td>6</td>\n",
       "    </tr>\n",
       "  </tbody>\n",
       "</table>\n",
       "</div>"
      ],
      "text/plain": [
       "   0  1  2  3\n",
       "a  1  2  3  4\n",
       "b  3  4  5  6"
      ]
     },
     "execution_count": 135,
     "metadata": {},
     "output_type": "execute_result"
    }
   ],
   "source": [
    "df = pd.DataFrame.from_dict(students,orient='index')\n",
    "df"
   ]
  },
  {
   "cell_type": "code",
   "execution_count": 151,
   "id": "29e70aa1",
   "metadata": {},
   "outputs": [
    {
     "data": {
      "text/html": [
       "<div>\n",
       "<style scoped>\n",
       "    .dataframe tbody tr th:only-of-type {\n",
       "        vertical-align: middle;\n",
       "    }\n",
       "\n",
       "    .dataframe tbody tr th {\n",
       "        vertical-align: top;\n",
       "    }\n",
       "\n",
       "    .dataframe thead th {\n",
       "        text-align: right;\n",
       "    }\n",
       "</style>\n",
       "<table border=\"1\" class=\"dataframe\">\n",
       "  <thead>\n",
       "    <tr style=\"text-align: right;\">\n",
       "      <th></th>\n",
       "      <th>이름</th>\n",
       "      <th>국어</th>\n",
       "      <th>영어</th>\n",
       "      <th>수학</th>\n",
       "      <th>과학</th>\n",
       "    </tr>\n",
       "  </thead>\n",
       "  <tbody>\n",
       "    <tr>\n",
       "      <th>0</th>\n",
       "      <td>a</td>\n",
       "      <td>1</td>\n",
       "      <td>2</td>\n",
       "      <td>3</td>\n",
       "      <td>4</td>\n",
       "    </tr>\n",
       "    <tr>\n",
       "      <th>1</th>\n",
       "      <td>b</td>\n",
       "      <td>4</td>\n",
       "      <td>5</td>\n",
       "      <td>6</td>\n",
       "      <td>7</td>\n",
       "    </tr>\n",
       "    <tr>\n",
       "      <th>2</th>\n",
       "      <td>c</td>\n",
       "      <td>5</td>\n",
       "      <td>6</td>\n",
       "      <td>7</td>\n",
       "      <td>8</td>\n",
       "    </tr>\n",
       "  </tbody>\n",
       "</table>\n",
       "</div>"
      ],
      "text/plain": [
       "   이름  국어  영어  수학  과학\n",
       "0   a   1   2   3   4\n",
       "1   b   4   5   6   7\n",
       "2  c    5   6   7   8"
      ]
     },
     "execution_count": 151,
     "metadata": {},
     "output_type": "execute_result"
    }
   ],
   "source": [
    "df1 = df.copy()\n",
    "df1"
   ]
  },
  {
   "cell_type": "code",
   "execution_count": 150,
   "id": "7e2180c8",
   "metadata": {},
   "outputs": [],
   "source": [
    "a = [1,2,3,4]\n",
    "b = a.copy()"
   ]
  },
  {
   "cell_type": "markdown",
   "id": "3011337f",
   "metadata": {},
   "source": [
    "- 데이터프레임은 2차원 : 시리즈가 여러 개\n",
    "- pandas.DataFrame(2차원배열 또는 딕셔너리, index=, columns= )\n",
    "- 딕셔너리는 key가 컬럼명으로 됨\n",
    "- 딕셔너리의 키를 인덱스명으로 지정하면서 데이터프레임으로 변환\n",
    "   - pandas.DataFrame.from_dict(딕셔너리데이터, origin='index')\n",
    "- 데이터프레임의 특정 컬럼을 인덱스로 변환\n",
    "   - 데이터프레임.set_index('컬럼명')\n",
    "  \n",
    "- 인덱스를 변경 : 데이터프레임.index = [인덱스명, ... ]\n",
    "- 컬럼명을 변경 : 데이터프레임.columns = [컬럼명, ... ]\n",
    "- 일부 인덱스 이름을 변경 : 데이터프레임.rename(index={old_idx:new_idx, ..}, inplace=)\n",
    "\n",
    "- 일부 컬럼명을 변경 : 데이터프레임.rename(columns={old_col:new_col, ..}, inplace=)\n",
    "- 행을 삭제 : 데이터프레임.drop(행 인덱스 또는 배열, axis=0)\n",
    "- 열을 삭제 : 데이터프레임.drop(열 이름 또는 배열, axis=1)"
   ]
  },
  {
   "cell_type": "code",
   "execution_count": 153,
   "id": "5d06cdc0",
   "metadata": {},
   "outputs": [
    {
     "name": "stdout",
     "output_type": "stream",
     "text": [
      "    수학  영어   음악   체육\n",
      "서준  90  99   85  100\n",
      "우현  80  89   95   90\n",
      "인아  70  95  100  100\n"
     ]
    }
   ],
   "source": [
    "exam_data = {'수학':[90,80,70], '영어':[99,89,95],\n",
    "            '음악':[85,95,100], '체육':[100,90,100]}\n",
    "df = pd.DataFrame(exam_data, index=['서준','우현','인아'])\n",
    "print(df)"
   ]
  },
  {
   "cell_type": "code",
   "execution_count": 158,
   "id": "bf4bd7b0",
   "metadata": {},
   "outputs": [
    {
     "name": "stdout",
     "output_type": "stream",
     "text": [
      "수학     90\n",
      "영어     99\n",
      "음악     85\n",
      "체육    100\n",
      "Name: 서준, dtype: int64\n",
      "수학     90\n",
      "영어     99\n",
      "음악     85\n",
      "체육    100\n",
      "Name: 서준, dtype: int64\n",
      "    수학  영어  음악   체육\n",
      "서준  90  99  85  100\n",
      "우현  80  89  95   90\n",
      "    수학  영어  음악   체육\n",
      "서준  90  99  85  100\n",
      "우현  80  89  95   90\n",
      "    수학  영어  음악   체육\n",
      "서준  90  99  85  100\n",
      "우현  80  89  95   90\n",
      "    수학  영어  음악   체육\n",
      "서준  90  99  85  100\n"
     ]
    }
   ],
   "source": [
    "# 행 인덱스명을 사용하여 1개 행 선택 ('서준')\n",
    "print(df.loc['서준'])\n",
    "# 행 인덱스(정수)를 사용하여 1개 행 선택 (0행)\n",
    "print(df.iloc[0])\n",
    "\n",
    "# 두개의 행을 선택 '서준', '우현'\n",
    "print(df.loc[['서준','우현']])\n",
    "print(df.iloc[[0,1]])\n",
    "\n",
    "# 범위를 선택 '서준' : '우현'\n",
    "print(df.loc['서준':'우현'])  # '우현' 포함\n",
    "print(df.iloc[0:1]) # 1은 포함 안함"
   ]
  },
  {
   "cell_type": "code",
   "execution_count": 166,
   "id": "fe0090c4",
   "metadata": {},
   "outputs": [
    {
     "name": "stdout",
     "output_type": "stream",
     "text": [
      "서준    90\n",
      "우현    80\n",
      "인아    70\n",
      "Name: 수학, dtype: int64 \n",
      " 서준    90\n",
      "우현    80\n",
      "인아    70\n",
      "Name: 수학, dtype: int64\n",
      "    수학   음악\n",
      "서준  90   85\n",
      "우현  80   95\n",
      "인아  70  100\n"
     ]
    }
   ],
   "source": [
    "#  컬럼(열)을 선택 : df.컬럼명 또는 df['컬럼명']\n",
    "print(df.수학,'\\n', df['수학'])\n",
    "print(df[ ['수학','음악'] ])"
   ]
  },
  {
   "cell_type": "code",
   "execution_count": 169,
   "id": "b9579d28",
   "metadata": {},
   "outputs": [
    {
     "data": {
      "text/html": [
       "<div>\n",
       "<style scoped>\n",
       "    .dataframe tbody tr th:only-of-type {\n",
       "        vertical-align: middle;\n",
       "    }\n",
       "\n",
       "    .dataframe tbody tr th {\n",
       "        vertical-align: top;\n",
       "    }\n",
       "\n",
       "    .dataframe thead th {\n",
       "        text-align: right;\n",
       "    }\n",
       "</style>\n",
       "<table border=\"1\" class=\"dataframe\">\n",
       "  <thead>\n",
       "    <tr style=\"text-align: right;\">\n",
       "      <th></th>\n",
       "      <th>수학</th>\n",
       "      <th>영어</th>\n",
       "      <th>음악</th>\n",
       "      <th>체육</th>\n",
       "    </tr>\n",
       "  </thead>\n",
       "  <tbody>\n",
       "    <tr>\n",
       "      <th>서준</th>\n",
       "      <td>90</td>\n",
       "      <td>99</td>\n",
       "      <td>85</td>\n",
       "      <td>100</td>\n",
       "    </tr>\n",
       "    <tr>\n",
       "      <th>인아</th>\n",
       "      <td>70</td>\n",
       "      <td>95</td>\n",
       "      <td>100</td>\n",
       "      <td>100</td>\n",
       "    </tr>\n",
       "  </tbody>\n",
       "</table>\n",
       "</div>"
      ],
      "text/plain": [
       "    수학  영어   음악   체육\n",
       "서준  90  99   85  100\n",
       "인아  70  95  100  100"
      ]
     },
     "execution_count": 169,
     "metadata": {},
     "output_type": "execute_result"
    }
   ],
   "source": [
    "# 범위 슬라이싱 : 객체.iloc[ start : end : step]\n",
    "df.iloc[0:3:1]\n",
    "df.iloc[ : : -1]\n",
    "df.iloc[ : : 2]"
   ]
  },
  {
   "cell_type": "code",
   "execution_count": null,
   "id": "bc9ae22e",
   "metadata": {},
   "outputs": [],
   "source": [
    "# 데이터프레임의 각 원소를 선택\n",
    "# 인덱스 이름 : 데이터프레임 객체.loc[ 행 인덱스명, 컬럼명 ]\n",
    "# 정수 위치 인덱스 : 데이터프레임 객체.iloc[ 행번호, 열 번호 ]\n",
    "# 서준의 영어 점수를 출력\n",
    "print(df.loc['서준', '영어'], df.iloc[0,1])\n",
    "\n",
    "# 서준과 인아의 영어와 음악점수를 출력\n",
    "df.loc[['서준', '인아'], ['영어', '음악']]\n",
    "\n",
    "# 서준부터 인아까지, 수학부터 음악까지\n",
    "df.loc[ '서준':'인아', '수학':'음악']\n",
    "df.iloc[ : , :-1]\n",
    "\n",
    "# 서준의 수학과 체육 점수만 출력\n",
    "df.loc[['서준'], ['수학', '체육']]   # dataframe\n",
    "df.loc['서준', ['수학', '체육']]     # series\n",
    "# df.iloc[0, [0, 3]]\n",
    "df.loc['철수']=[80,90,100,90]   # 새로운 행 추가 df.loc['인덱스명'] =값\n",
    "df\n",
    "# 새로운 열 추가 : 데이터프레임 객체['컬럼명'] = 값\n",
    "df['국어'] = [100,80,90,100]\n",
    "df"
   ]
  },
  {
   "cell_type": "code",
   "execution_count": 188,
   "id": "f4854b04",
   "metadata": {},
   "outputs": [
    {
     "data": {
      "text/html": [
       "<div>\n",
       "<style scoped>\n",
       "    .dataframe tbody tr th:only-of-type {\n",
       "        vertical-align: middle;\n",
       "    }\n",
       "\n",
       "    .dataframe tbody tr th {\n",
       "        vertical-align: top;\n",
       "    }\n",
       "\n",
       "    .dataframe thead th {\n",
       "        text-align: right;\n",
       "    }\n",
       "</style>\n",
       "<table border=\"1\" class=\"dataframe\">\n",
       "  <thead>\n",
       "    <tr style=\"text-align: right;\">\n",
       "      <th></th>\n",
       "      <th>수학</th>\n",
       "      <th>영어</th>\n",
       "      <th>음악</th>\n",
       "      <th>체육</th>\n",
       "      <th>국어</th>\n",
       "    </tr>\n",
       "  </thead>\n",
       "  <tbody>\n",
       "    <tr>\n",
       "      <th>서준</th>\n",
       "      <td>90</td>\n",
       "      <td>99</td>\n",
       "      <td>85</td>\n",
       "      <td>100</td>\n",
       "      <td>100</td>\n",
       "    </tr>\n",
       "    <tr>\n",
       "      <th>우현</th>\n",
       "      <td>80</td>\n",
       "      <td>89</td>\n",
       "      <td>95</td>\n",
       "      <td>90</td>\n",
       "      <td>80</td>\n",
       "    </tr>\n",
       "    <tr>\n",
       "      <th>인아</th>\n",
       "      <td>70</td>\n",
       "      <td>95</td>\n",
       "      <td>100</td>\n",
       "      <td>100</td>\n",
       "      <td>90</td>\n",
       "    </tr>\n",
       "    <tr>\n",
       "      <th>철수</th>\n",
       "      <td>80</td>\n",
       "      <td>90</td>\n",
       "      <td>100</td>\n",
       "      <td>90</td>\n",
       "      <td>100</td>\n",
       "    </tr>\n",
       "    <tr>\n",
       "      <th>추가</th>\n",
       "      <td>90</td>\n",
       "      <td>99</td>\n",
       "      <td>85</td>\n",
       "      <td>100</td>\n",
       "      <td>100</td>\n",
       "    </tr>\n",
       "  </tbody>\n",
       "</table>\n",
       "</div>"
      ],
      "text/plain": [
       "    수학  영어   음악   체육   국어\n",
       "서준  90  99   85  100  100\n",
       "우현  80  89   95   90   80\n",
       "인아  70  95  100  100   90\n",
       "철수  80  90  100   90  100\n",
       "추가  90  99   85  100  100"
      ]
     },
     "execution_count": 188,
     "metadata": {},
     "output_type": "execute_result"
    }
   ],
   "source": [
    "# 기존의 행을 복사해서 추가\n",
    "df.loc['추가'] = df.loc['서준']\n",
    "df"
   ]
  },
  {
   "cell_type": "code",
   "execution_count": 189,
   "id": "2e421b57",
   "metadata": {},
   "outputs": [
    {
     "data": {
      "text/html": [
       "<div>\n",
       "<style scoped>\n",
       "    .dataframe tbody tr th:only-of-type {\n",
       "        vertical-align: middle;\n",
       "    }\n",
       "\n",
       "    .dataframe tbody tr th {\n",
       "        vertical-align: top;\n",
       "    }\n",
       "\n",
       "    .dataframe thead th {\n",
       "        text-align: right;\n",
       "    }\n",
       "</style>\n",
       "<table border=\"1\" class=\"dataframe\">\n",
       "  <thead>\n",
       "    <tr style=\"text-align: right;\">\n",
       "      <th></th>\n",
       "      <th>kor</th>\n",
       "      <th>eng</th>\n",
       "      <th>math</th>\n",
       "    </tr>\n",
       "  </thead>\n",
       "  <tbody>\n",
       "  </tbody>\n",
       "</table>\n",
       "</div>"
      ],
      "text/plain": [
       "Empty DataFrame\n",
       "Columns: [kor, eng, math]\n",
       "Index: []"
      ]
     },
     "execution_count": 189,
     "metadata": {},
     "output_type": "execute_result"
    }
   ],
   "source": [
    "df = pd.DataFrame(columns=['kor','eng','math'])\n",
    "df"
   ]
  },
  {
   "cell_type": "code",
   "execution_count": 193,
   "id": "bf61660f",
   "metadata": {},
   "outputs": [
    {
     "name": "stdout",
     "output_type": "stream",
     "text": [
      "이름 입력 >a\n",
      "3과목 점수 입력 >3 4 5\n",
      "이름 입력 >b\n",
      "3과목 점수 입력 >5 6 7\n",
      "이름 입력 >c\n",
      "3과목 점수 입력 >6 7 8\n",
      "이름 입력 >q\n"
     ]
    },
    {
     "data": {
      "text/html": [
       "<div>\n",
       "<style scoped>\n",
       "    .dataframe tbody tr th:only-of-type {\n",
       "        vertical-align: middle;\n",
       "    }\n",
       "\n",
       "    .dataframe tbody tr th {\n",
       "        vertical-align: top;\n",
       "    }\n",
       "\n",
       "    .dataframe thead th {\n",
       "        text-align: right;\n",
       "    }\n",
       "</style>\n",
       "<table border=\"1\" class=\"dataframe\">\n",
       "  <thead>\n",
       "    <tr style=\"text-align: right;\">\n",
       "      <th></th>\n",
       "      <th>kor</th>\n",
       "      <th>eng</th>\n",
       "      <th>math</th>\n",
       "    </tr>\n",
       "  </thead>\n",
       "  <tbody>\n",
       "    <tr>\n",
       "      <th>a</th>\n",
       "      <td>3</td>\n",
       "      <td>4</td>\n",
       "      <td>5</td>\n",
       "    </tr>\n",
       "    <tr>\n",
       "      <th>b</th>\n",
       "      <td>5</td>\n",
       "      <td>6</td>\n",
       "      <td>7</td>\n",
       "    </tr>\n",
       "    <tr>\n",
       "      <th>c</th>\n",
       "      <td>6</td>\n",
       "      <td>7</td>\n",
       "      <td>8</td>\n",
       "    </tr>\n",
       "  </tbody>\n",
       "</table>\n",
       "</div>"
      ],
      "text/plain": [
       "  kor eng math\n",
       "a   3   4    5\n",
       "b   5   6    7\n",
       "c   6   7    8"
      ]
     },
     "execution_count": 193,
     "metadata": {},
     "output_type": "execute_result"
    }
   ],
   "source": [
    "# 이름, 국어, 영어, 수학 점수를 입력받아, 이름을 인덱스로 데이터 프레임에 저장\n",
    "# df 을 출력\n",
    "# 이름을 입력받아 데이터프레임의 자료를 검색해서 출력\n",
    "# 이름과 과목을 입력 받아 데이터 출력\n",
    "# 자료 추가 \n",
    "score_df = pd.DataFrame(columns=['kor','eng','math'])\n",
    "create_score()\n",
    "score_df"
   ]
  },
  {
   "cell_type": "code",
   "execution_count": 225,
   "id": "41a53e01",
   "metadata": {},
   "outputs": [],
   "source": [
    "def create_score():\n",
    "    while True:\n",
    "        name = input(\"이름 입력 >\")\n",
    "        if name == 'q':\n",
    "            break\n",
    "        score = list(map(int, input(\"3과목 점수 입력 >\").split()))\n",
    "        score_df.loc[name] = score\n",
    "        \n",
    "def search_score():\n",
    "    s_name = input(\"검색할 이름 입력 >\")\n",
    "    if s_name in score_df.index:\n",
    "        print(\"{} : {}\".format(s_name, score_df.loc[s_name],end=''))\n",
    "\n",
    "def search_title():\n",
    "    s_name = input(\"검색할 이름 >\")  \n",
    "    if not s_name in score_df.index:\n",
    "        print(\"검색하고자 하는 이름 없음 \")\n",
    "        return\n",
    "    \n",
    "    s_title = input(\"검색할 과목 입력 >\")\n",
    "    if s_title in score_df.columns:\n",
    "        return score_df.loc[s_name, s_title]\n",
    "    else:\n",
    "        print(\"검색하고자 하는 과목 없음 \")\n",
    "        return        \n",
    "        \n",
    "def add_score():\n",
    "    name = input(\"추가할 이름 입력 >\")\n",
    "    if name in score_df.index:\n",
    "        print('존재하는 자료입니다')\n",
    "        return\n",
    "    score = list(map(int, input(\"3과목 점수 입력 >\").split()))\n",
    "    score_df.loc[name] = score    "
   ]
  },
  {
   "cell_type": "code",
   "execution_count": 228,
   "id": "0a15eb96",
   "metadata": {},
   "outputs": [
    {
     "name": "stdout",
     "output_type": "stream",
     "text": [
      "검색할 이름 입력 >ㅁ\n",
      "검색할 이름 >b\n",
      "검색할 과목 입력 >kor\n",
      "검색한 자료는 :  5\n",
      "추가할 이름 입력 >a\n",
      "존재하는 자료입니다\n"
     ]
    }
   ],
   "source": [
    "search_score()\n",
    "print(\"검색한 자료는 : \", search_title())\n",
    "add_score()"
   ]
  },
  {
   "cell_type": "code",
   "execution_count": 227,
   "id": "309f7810",
   "metadata": {},
   "outputs": [
    {
     "data": {
      "text/html": [
       "<div>\n",
       "<style scoped>\n",
       "    .dataframe tbody tr th:only-of-type {\n",
       "        vertical-align: middle;\n",
       "    }\n",
       "\n",
       "    .dataframe tbody tr th {\n",
       "        vertical-align: top;\n",
       "    }\n",
       "\n",
       "    .dataframe thead th {\n",
       "        text-align: right;\n",
       "    }\n",
       "</style>\n",
       "<table border=\"1\" class=\"dataframe\">\n",
       "  <thead>\n",
       "    <tr style=\"text-align: right;\">\n",
       "      <th></th>\n",
       "      <th>kor</th>\n",
       "      <th>eng</th>\n",
       "      <th>math</th>\n",
       "    </tr>\n",
       "  </thead>\n",
       "  <tbody>\n",
       "    <tr>\n",
       "      <th>a</th>\n",
       "      <td>3</td>\n",
       "      <td>4</td>\n",
       "      <td>5</td>\n",
       "    </tr>\n",
       "    <tr>\n",
       "      <th>b</th>\n",
       "      <td>5</td>\n",
       "      <td>6</td>\n",
       "      <td>7</td>\n",
       "    </tr>\n",
       "    <tr>\n",
       "      <th>c</th>\n",
       "      <td>6</td>\n",
       "      <td>7</td>\n",
       "      <td>8</td>\n",
       "    </tr>\n",
       "    <tr>\n",
       "      <th>d</th>\n",
       "      <td>1</td>\n",
       "      <td>2</td>\n",
       "      <td>3</td>\n",
       "    </tr>\n",
       "  </tbody>\n",
       "</table>\n",
       "</div>"
      ],
      "text/plain": [
       "  kor eng math\n",
       "a   3   4    5\n",
       "b   5   6    7\n",
       "c   6   7    8\n",
       "d   1   2    3"
      ]
     },
     "execution_count": 227,
     "metadata": {},
     "output_type": "execute_result"
    }
   ],
   "source": [
    "score_df"
   ]
  }
 ],
 "metadata": {
  "kernelspec": {
   "display_name": "Python 3 (ipykernel)",
   "language": "python",
   "name": "python3"
  },
  "language_info": {
   "codemirror_mode": {
    "name": "ipython",
    "version": 3
   },
   "file_extension": ".py",
   "mimetype": "text/x-python",
   "name": "python",
   "nbconvert_exporter": "python",
   "pygments_lexer": "ipython3",
   "version": "3.9.7"
  }
 },
 "nbformat": 4,
 "nbformat_minor": 5
}
