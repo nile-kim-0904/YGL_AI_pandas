{
 "cells": [
  {
   "cell_type": "code",
   "execution_count": 2,
   "id": "c199445f",
   "metadata": {},
   "outputs": [],
   "source": [
    "import numpy as np"
   ]
  },
  {
   "cell_type": "code",
   "execution_count": 3,
   "id": "b1231ce2",
   "metadata": {},
   "outputs": [
    {
     "name": "stdout",
     "output_type": "stream",
     "text": [
      "(3, 5) 15 int32\n"
     ]
    }
   ],
   "source": [
    "arr = np.arange(15)\n",
    "arr\n",
    "#print(arr,type(arr)) # array\n",
    "arr = arr.reshape(3,5) # reshape: 배열 재정의\n",
    "#print(arr,arr.ndim) # ndim 몇 차원인지?\n",
    "print(arr.shape,arr.size,arr.dtype.name) # shpe(3*5)\n",
    "#print(arr.dtype.itemsize) # 데이터의 저장 공간 사이즈: 4byte"
   ]
  },
  {
   "cell_type": "code",
   "execution_count": 4,
   "id": "8fce3e51",
   "metadata": {},
   "outputs": [
    {
     "name": "stdout",
     "output_type": "stream",
     "text": [
      "[[-5.  -4.5 -4.  -3.5 -3. ]\n",
      " [-2.5 -2.  -1.5 -1.  -0.5]\n",
      " [ 0.   0.5  1.   1.5  2. ]\n",
      " [ 2.5  3.   3.5  4.   4.5]]\n"
     ]
    },
    {
     "data": {
      "text/plain": [
       "array([-5. , -4.5, -4. , -3.5, -3. , -2.5, -2. , -1.5, -1. , -0.5,  0. ,\n",
       "        0.5,  1. ,  1.5,  2. ,  2.5,  3. ,  3.5,  4. ,  4.5])"
      ]
     },
     "execution_count": 4,
     "metadata": {},
     "output_type": "execute_result"
    }
   ],
   "source": [
    "arr = np.arange(-5,5,0.5)\n",
    "arr = arr.reshape(4,int(arr.size/4))\n",
    "print(arr)\n",
    "arr1 = arr.flatten() # 다차원을 1차원으로 변경\n",
    "arr1"
   ]
  },
  {
   "cell_type": "code",
   "execution_count": 5,
   "id": "c4c42128",
   "metadata": {},
   "outputs": [
    {
     "name": "stdout",
     "output_type": "stream",
     "text": [
      "list_a: [1 2 3], list_a의 type: <class 'numpy.ndarray'>\n",
      "list_b: [[1 2 3]\n",
      " [4 5 6]], list_b의 type: <class 'numpy.ndarray'>\n",
      "list_a dim: 1, list_a의 shape: (3,)\n",
      "list_b dim: 2, list_b의 shape: (2, 3)\n",
      "list_a의 size 3, list_a의 dtype int32\n"
     ]
    }
   ],
   "source": [
    "# 기존의 파이썬 리스트로 array 생성\n",
    "list_a = np.array([1,2,3])\n",
    "list_b = np.array([[1,2,3],[4,5,6]])\n",
    "print(\"list_a: {}, list_a의 type: {}\".format(list_a,type(list_a)))\n",
    "print(\"list_b: {}, list_b의 type: {}\".format(list_b,type(list_b)))\n",
    "print(\"list_a dim: {}, list_a의 shape: {}\".format(list_a.ndim,list_a.shape))\n",
    "print(\"list_b dim: {}, list_b의 shape: {}\".format(list_b.ndim,list_b.shape))\n",
    "print(\"list_a의 size {}, list_a의 dtype {}\".format(list_a.size,list_a.dtype))\n",
    "# np.arange([start], stop, [step])\n",
    "# np.array.reshape(차수, ...), np.flatten() -> 1차원으로 변경\n",
    "# np.ndim, np.shape, np.dtype, np.ndim, np.dtype.name, np.size"
   ]
  },
  {
   "cell_type": "code",
   "execution_count": 11,
   "id": "7e51ab46",
   "metadata": {},
   "outputs": [
    {
     "name": "stdout",
     "output_type": "stream",
     "text": [
      "[0. 0. 0. 0. 0.]\n",
      "[[0. 0. 0.]\n",
      " [0. 0. 0.]]\n",
      "[[0 0]\n",
      " [0 0]\n",
      " [0 0]\n",
      " [0 0]\n",
      " [0 0]]\n",
      "['' '' '' '' '']\n",
      "[[1. 1. 1.]\n",
      " [1. 1. 1.]]\n",
      "[[1.11787012e-311 3.16202013e-322 0.00000000e+000]\n",
      " [0.00000000e+000 1.89146896e-307 2.35852730e+180]\n",
      " [1.79657816e-052 9.35152929e-067 2.10858042e-052]\n",
      " [3.73466664e-033 7.86785913e-067 9.30589229e+165]]\n",
      "[  0.  inf -inf  nan]\n"
     ]
    },
    {
     "name": "stderr",
     "output_type": "stream",
     "text": [
      "C:\\Users\\nile\\AppData\\Local\\Temp/ipykernel_22164/2247772342.py:11: RuntimeWarning: divide by zero encountered in true_divide\n",
      "  print(np.array([0,1,-1,0])/np.array([1,0,0,0]))\n",
      "C:\\Users\\nile\\AppData\\Local\\Temp/ipykernel_22164/2247772342.py:11: RuntimeWarning: invalid value encountered in true_divide\n",
      "  print(np.array([0,1,-1,0])/np.array([1,0,0,0]))\n"
     ]
    }
   ],
   "source": [
    "# 배열을 생성하면서 값을 초기화하는 방법\n",
    "a = np.zeros(5)\n",
    "print(a)\n",
    "b = np.zeros((2,3))\n",
    "print(b)\n",
    "\n",
    "print(np.zeros((5,2),dtype='i'))\n",
    "print(np.zeros(5,dtype='U4'))\n",
    "print(np.ones_like(b,dtype='f'))\n",
    "print(np.empty((4,3)))\n",
    "print(np.array([0,1,-1,0])/np.array([1,0,0,0]))"
   ]
  },
  {
   "cell_type": "code",
   "execution_count": 13,
   "id": "074c2927",
   "metadata": {},
   "outputs": [
    {
     "data": {
      "text/plain": [
       "array([[ 4.,  3.],\n",
       "       [ 9.,  8.],\n",
       "       [14., 13.]])"
      ]
     },
     "execution_count": 13,
     "metadata": {},
     "output_type": "execute_result"
    }
   ],
   "source": [
    "x2 = np.array([-1.0, -2.0])\n",
    "z2 = np.array([[5.0],[10.0],[15.0]])\n",
    "x2 + z2"
   ]
  },
  {
   "cell_type": "code",
   "execution_count": 28,
   "id": "eb8d20ef",
   "metadata": {},
   "outputs": [
    {
     "name": "stdout",
     "output_type": "stream",
     "text": [
      "[ 0  1  4  9 16 25 36 49 64 81]\n",
      "4\n",
      "[ 9 16]\n",
      "[  0   1  -4   9 -16  25  36  49  64  81]\n",
      "[ 81  64  49  36  25 -16   9  -4   1   0]\n",
      "0\t1\t-4\t9\t-16\t25\t36\t49\t64\t81\t[[ 1  2  3  4  5]\n",
      " [ 6  7  8  9 10]\n",
      " [11 12 13 14 15]\n",
      " [16 17 18 19 20]]\n",
      "20\n",
      "[[ 2  3  4  5]\n",
      " [ 7  8  9 10]\n",
      " [12 13 14 15]]\n",
      "[ 6  7  8  9 10]\n",
      "[16 17 18 19 20]\n"
     ]
    }
   ],
   "source": [
    "# numpy indexing, slicing, iterating\n",
    "arr = np.arange(10)**2\n",
    "print(arr)\n",
    "print(arr[2])\n",
    "print(arr[3:5]) # 9, 16\n",
    "arr[0:6:2] = -arr[0:6:2] # 0, 2, 4\n",
    "print(arr)\n",
    "print(arr[::-1])\n",
    "for i in arr:\n",
    "    print(i, end='\\t')\n",
    "arr = np.arange(1,21,1).reshape(4,5)\n",
    "print(arr)\n",
    "print(arr[3,4]) # 20\n",
    "print(arr[0:3,1:])\n",
    "print(arr[1,]) # 1행 출력\n",
    "print(arr[-1,]) "
   ]
  },
  {
   "cell_type": "code",
   "execution_count": 31,
   "id": "78cf592d",
   "metadata": {},
   "outputs": [
    {
     "name": "stdout",
     "output_type": "stream",
     "text": [
      "[0 1 2 3 4 5] [ 1.          0.54030231 -0.41614684 -0.9899925  -0.65364362  0.28366219] [  1.           2.71828183   7.3890561   20.08553692  54.59815003\n",
      " 148.4131591 ]\n",
      "[-6.90775528 -2.97592965 -2.29263476 -1.89047544 -1.60445037 -1.38230234\n",
      " -1.20064501 -1.04696906 -0.91379385 -0.79628794 -0.69114918 -0.59602047\n",
      " -0.50916034 -0.42924564 -0.35524739 -0.28634963 -0.22189433 -0.16134315\n",
      " -0.10425002 -0.05024122]\n"
     ]
    }
   ],
   "source": [
    "# numpy 일반 함수\n",
    "# np.cos(), sin(), tanh(), exp()\n",
    "arr = np.arange(0,6,1)\n",
    "print(arr,np.cos(arr),np.exp(arr))\n",
    "\n",
    "arr = np.arange(0.001,1,0.05)\n",
    "print(np.log(arr))"
   ]
  },
  {
   "cell_type": "code",
   "execution_count": 43,
   "id": "59296883",
   "metadata": {},
   "outputs": [
    {
     "name": "stdout",
     "output_type": "stream",
     "text": [
      "[2 5 4]\n",
      "[1 3 2]\n",
      "9\n",
      "[43 64 79 58 22]\n",
      "[[0.01512606 0.11274176 0.498705  ]\n",
      " [0.19447649 0.78581684 0.80074478]]\n",
      "[[ 1.14754057  0.21997409  0.04372629]\n",
      " [ 0.84515726  1.16163465 -0.98127476]]\n",
      "0 : 6\n",
      "[[0.1 0.8 0.2]\n",
      " [0.3 0.2 0.5]\n",
      " [0.9 0.5 0.3]]\n",
      "[2 0 1]\n",
      "[1 2 0]\n"
     ]
    }
   ],
   "source": [
    "arr1 = np.array([2,3,4])\n",
    "arr2 = np.array([1,5,2])\n",
    "print(np.maximum(arr1,arr2))\n",
    "print(np.minimum(arr1,arr2))\n",
    "print(np.sum(arr1))\n",
    "print(np.random.choice(100,5)) # 0 ~ 100 사이의 수 중에서 5개 출력\n",
    "print(np.random.rand(2,3)) # 2행 3열의 random 값 리턴\n",
    "print(np.random.randn(2,3)) # 2행 3열의 random 갑 리턴 (-1부터 1까지의 float) 표준 정규 분포\n",
    "\n",
    "# 위치를 반환하는 함수 argmax, argmin\n",
    "arr = np.array([6,2,3,1,4,5])\n",
    "print(np.argmax(arr), ':', arr[np.argmax(arr)])\n",
    "\n",
    "arr3 = np.array([[0.1,0.8,0.2],[0.3,0.2,0.5],[0.9,0.5,0.3]])\n",
    "print(arr3)\n",
    "print(np.argmax(arr3,axis=0))\n",
    "print(np.argmax(arr3,axis=1))\n"
   ]
  },
  {
   "cell_type": "code",
   "execution_count": 56,
   "id": "e2cd8f0b",
   "metadata": {},
   "outputs": [
    {
     "name": "stdout",
     "output_type": "stream",
     "text": [
      "25\n",
      "5.0\n",
      "132.32\n",
      "11.503043075638724\n",
      "23\n",
      "-31\n",
      "5.0\n",
      "0.0\n",
      "5.0\n",
      "23.0\n"
     ]
    }
   ],
   "source": [
    "# 기술 통계 함수\n",
    "# count(), mean(), average(), var(), std(), median(), max(), min(), percentile()\n",
    "arr = np.array([18,5,10,23,19,-8,10,0,0,5,2,15,8,2,5,4,15,-1,4,-7-24,7,9,-6,23,-13])\n",
    "print(len(arr))\n",
    "print(np.mean(arr))\n",
    "print(np.var(arr))\n",
    "print(np.std(arr))\n",
    "print(np.max(arr))\n",
    "print(np.min(arr))\n",
    "print(np.median(arr))\n",
    "print(np.percentile(arr,25))\n",
    "print(np.percentile(arr,50))\n",
    "print(np.percentile(arr,100))"
   ]
  },
  {
   "cell_type": "code",
   "execution_count": 60,
   "id": "bec6b878",
   "metadata": {},
   "outputs": [
    {
     "data": {
      "text/plain": [
       "array([0.5488135 , 0.71518937, 0.60276338, 0.54488318, 0.4236548 ])"
      ]
     },
     "execution_count": 60,
     "metadata": {},
     "output_type": "execute_result"
    }
   ],
   "source": [
    "# 난수 발생과 카운팅\n",
    "np.random.seed(0)\n",
    "np.random.rand(5)"
   ]
  },
  {
   "cell_type": "code",
   "execution_count": 63,
   "id": "c42b9ee5",
   "metadata": {},
   "outputs": [
    {
     "name": "stdout",
     "output_type": "stream",
     "text": [
      "[0 1 2 3 4 5 6 7 8 9]\n",
      "[5 2 3 4 1 0 9 8 7 6]\n"
     ]
    }
   ],
   "source": [
    "# 데이터 순서 바꾸는 방법\n",
    "arr = np.arange(10)\n",
    "print(arr)\n",
    "np.random.shuffle(arr) # arr 자료의 순서를 바꿈\n",
    "print(arr)"
   ]
  },
  {
   "cell_type": "code",
   "execution_count": 81,
   "id": "d1d47c52",
   "metadata": {},
   "outputs": [
    {
     "data": {
      "text/plain": [
       "array([2, 3, 2, 3, 3, 3, 3, 3, 2, 3])"
      ]
     },
     "execution_count": 81,
     "metadata": {},
     "output_type": "execute_result"
    }
   ],
   "source": [
    "# 샘플링: choice()\n",
    "np.random.choice(10,5,replace=False)  # shuffle과 같은 결과\n",
    "np.random.choice(10,3,replace=False)\n",
    "np.random.choice(5,10)\n",
    "np.random.choice(5,10,p=[0.1,0,0.3,0.6,0]) # 선택 확률을 다르게 줌"
   ]
  },
  {
   "cell_type": "code",
   "execution_count": 108,
   "id": "73d6ab53",
   "metadata": {},
   "outputs": [
    {
     "data": {
      "text/plain": [
       "array([[15, 19, 18, 19, 14],\n",
       "       [13, 10, 13, 15, 10],\n",
       "       [12, 13, 18, 11, 13]])"
      ]
     },
     "execution_count": 108,
     "metadata": {},
     "output_type": "execute_result"
    }
   ],
   "source": [
    "# randint() 정수 난수 발생 numpy.random.randint(low,high=None,size=None)\n",
    "#np.random.randint(low,high=None,size=None)\n",
    "np.random.seed(0)\n",
    "np.random.randint(10,size=10) # 10은 포함하지 않음\n",
    "np.random.randint(10,20,size=10) # 20은 포함하지 않음\n",
    "np.random.randint(10,20,size=(3,5)) # 3행 5열의 array 반환"
   ]
  },
  {
   "cell_type": "code",
   "execution_count": 119,
   "id": "91fc21aa",
   "metadata": {},
   "outputs": [
    {
     "name": "stdout",
     "output_type": "stream",
     "text": [
      "[ 1  2  3  4  5  6  7  8  9 10 11 12 13 14 15 16 17 18 19 20]\n",
      "[ 3  6  9 12 15 18]\n",
      "[ 1  5  9 13 17]\n",
      "[9]\n"
     ]
    }
   ],
   "source": [
    "x = np.array([1,2,3,4,5,6,7,8,9,10,11,12,13,14,15,16,17,18,19,20])\n",
    "#y = np.arange(1,21,1)\n",
    "print(x)\n",
    "#print(y)\n",
    "print(x[x%3==0])\n",
    "print(x[x%4==1])\n",
    "print(x[(x%3==0)&(x%4==1)])"
   ]
  },
  {
   "cell_type": "code",
   "execution_count": 132,
   "id": "1a59d276",
   "metadata": {},
   "outputs": [
    {
     "name": "stdout",
     "output_type": "stream",
     "text": [
      "[1, 2, 3, 4, 5]\n",
      "[1 2 3 4 5]\n",
      "<class 'list'> <class 'numpy.ndarray'>\n"
     ]
    }
   ],
   "source": [
    "a = [1,2,3,4,5]\n",
    "print(a)\n",
    "b = np.array(a)\n",
    "print(b)\n",
    "\n",
    "print(type(a),type(b))"
   ]
  }
 ],
 "metadata": {
  "kernelspec": {
   "display_name": "Python 3 (ipykernel)",
   "language": "python",
   "name": "python3"
  },
  "language_info": {
   "codemirror_mode": {
    "name": "ipython",
    "version": 3
   },
   "file_extension": ".py",
   "mimetype": "text/x-python",
   "name": "python",
   "nbconvert_exporter": "python",
   "pygments_lexer": "ipython3",
   "version": "3.9.7"
  }
 },
 "nbformat": 4,
 "nbformat_minor": 5
}
