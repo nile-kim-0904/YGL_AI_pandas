{
 "cells": [
  {
   "cell_type": "code",
   "execution_count": 5,
   "id": "62fd1af4",
   "metadata": {},
   "outputs": [],
   "source": [
    "# 지도 그래프\n",
    "import folium\n",
    "import pandas as pd"
   ]
  },
  {
   "cell_type": "code",
   "execution_count": 4,
   "id": "49979090",
   "metadata": {},
   "outputs": [],
   "source": [
    "# 서울 지도 만들기\n",
    "seoul_map2 = folium.Map(location=[37.55,126.98], tiles='Stamen Terrain', \n",
    "                        zoom_start=12)\n",
    "seoul_map3 = folium.Map(location=[37.55,126.98], tiles='Stamen Toner', \n",
    "                        zoom_start=15)\n",
    "\n",
    "# 지도를 HTML 파일로 저장하기\n",
    "seoul_map2.save('./seoul2.html')\n",
    "seoul_map3.save('./seoul3.html')\n",
    "\n"
   ]
  },
  {
   "cell_type": "code",
   "execution_count": 47,
   "id": "41e93075",
   "metadata": {},
   "outputs": [],
   "source": [
    "df = pd.read_excel(\"dataset/서울지역 대학교 위치.xlsx\",header=None,skiprows=1)\n",
    "df.columns = ['학교명','위도','경도']\n",
    "\n",
    "df.set_index('학교명',inplace=True)\n",
    "\n",
    "df\n",
    "\n",
    "seoul_map = folium.Map(location=[37.55,126.98], tiles='Stamen Terrain',\n",
    "                       zoom_start=12)\n",
    "\n",
    "for name,lat,lng in zip(df.index,df.위도,df.경도):\n",
    "    folium.Marker([lat,lng],popup=name).add_to(seoul_map)\n",
    "    \n",
    "seoul_map.save('dataset/seoul.html')"
   ]
  },
  {
   "cell_type": "code",
   "execution_count": 49,
   "id": "99d186f2",
   "metadata": {},
   "outputs": [],
   "source": [
    "seoul_map = folium.Map(location=[37.55,126.98], tiles='Stamen Terrain',\n",
    "                       zoom_start=12)\n",
    "\n",
    "for name, lat, lng in zip(df.index,df.위도,df.경도):\n",
    "    folium.CircleMarker([lat,lng],\n",
    "                 radius=10,\n",
    "                 color='black',\n",
    "                 fill=True,\n",
    "                       fill_color='red',\n",
    "                       fill_opacity=0.7,\n",
    "                       popup=name).add_to(seoul_map)\n",
    "seoul_map.save('dataset/seoul.html')"
   ]
  },
  {
   "cell_type": "code",
   "execution_count": 50,
   "id": "b371f3ce",
   "metadata": {},
   "outputs": [],
   "source": [
    "import json"
   ]
  },
  {
   "cell_type": "code",
   "execution_count": 52,
   "id": "1a070013",
   "metadata": {},
   "outputs": [],
   "source": [
    "# 경기도 인구변화 데이터를 불러와서 데이터프레임으로 변환\n",
    "file_path = './dataset/경기도인구데이터.xlsx'\n",
    "df = pd.read_excel(file_path, index_col='구분')\n",
    "df.columns = df.columns.map(str)\n",
    "\n",
    "# 경기도 시군구 경계 정보를 가진 geo-json 파일 불러오기\n",
    "geo_path = './dataset/경기도행정구역경계.json'\n",
    "try:\n",
    "    geo_data = json.load(open(geo_path, encoding='utf-8'))\n",
    "except:\n",
    "    geo_data = json.load(open(geo_path, encoding='utf-8-sig'))\n",
    "\n",
    "# 경기도 지도 만들기\n",
    "g_map = folium.Map(location=[37.5502,126.982], \n",
    "                   tiles='Stamen Terrain', zoom_start=9)\n",
    "\n",
    "# 출력할 연도 선택 (2007 ~ 2017년 중에서 선택)\n",
    "year = '2017'\n",
    "\n",
    "# Choropleth 클래스로 단계구분도 표시하기\n",
    "folium.Choropleth(geo_data=geo_data,    # 지도 경계\n",
    "                 data = df[year],      # 표시하려는 데이터\n",
    "                 columns = [df.index, df[year]],  # 열 지정\n",
    "                 fill_color='YlOrRd', fill_opacity=0.7, line_opacity=0.3,\n",
    "                 threshold_scale=[10000, 100000, 300000, 500000, 700000],\n",
    "                 key_on='feature.properties.name',\n",
    "                 ).add_to(g_map)\n",
    "\n",
    "# 지도를 HTML 파일로 저장하기\n",
    "g_map.save('./dataset/gyonggipopulation' + year + '.html')"
   ]
  }
 ],
 "metadata": {
  "kernelspec": {
   "display_name": "Python 3 (ipykernel)",
   "language": "python",
   "name": "python3"
  },
  "language_info": {
   "codemirror_mode": {
    "name": "ipython",
    "version": 3
   },
   "file_extension": ".py",
   "mimetype": "text/x-python",
   "name": "python",
   "nbconvert_exporter": "python",
   "pygments_lexer": "ipython3",
   "version": "3.9.7"
  }
 },
 "nbformat": 4,
 "nbformat_minor": 5
}
